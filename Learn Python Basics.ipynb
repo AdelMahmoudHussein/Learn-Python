{
 "cells": [
  {
   "cell_type": "code",
   "execution_count": 2,
   "metadata": {},
   "outputs": [
    {
     "name": "stdout",
     "output_type": "stream",
     "text": [
      "plz Enter first num :22\n",
      "plz enter second num :11\n",
      "Result of sum : 33.0\n",
      "Result of sub: 11.0\n",
      "result of multiply : 242.0\n"
     ]
    }
   ],
   "source": [
    "\"\"\"\"\n",
    "python \n",
    "-\n",
    "-\n",
    "-\n",
    "-\n",
    "\"\"\"\"\n",
    "#variables (mutable  |   Unmutable )\n",
    "#lab1 vairables(assignment operators) + input method + casting + mathematical operators \n",
    "#--------------------------------------------------------------------------------------\n",
    "#Resd 1st num\n",
    "num1 = float(input('plz Enter first num :'))\n",
    "#read 2nd num\n",
    "num2 = input('plz enter second num :')\n",
    "#convert/casting from str to float\n",
    "#num1 = float(num1) #why num1 ? less variables\n",
    "num2 = float(num2)\n",
    "#sum\n",
    "sumation = num1 + num2\n",
    "print('Result of sum :',sumation)\n",
    "#sub\n",
    "sub = num1 - num2\n",
    "print('Result of sub:' ,sub)\n",
    "#multiply\n",
    "multiyply=num1 * num2\n",
    "print('result of multiply :',multiyply)"
   ]
  },
  {
   "cell_type": "code",
   "execution_count": 13,
   "metadata": {},
   "outputs": [
    {
     "name": "stdout",
     "output_type": "stream",
     "text": [
      "plz enter your gender :m\n",
      "plz enter your age :18\n",
      "male okay\n"
     ]
    }
   ],
   "source": [
    "#lab2 comparasion operators + logical operators +if condition (complex)\n",
    "#if condition not do any thing cannot be empty (error) so pass word under conditiion\n",
    "#------------------------------------------------------------\n",
    "#read age and gender \n",
    "gender = input('plz enter your gender :')\n",
    "age = input('plz enter your age :')\n",
    "#convert age\n",
    "age = float(age)\n",
    "#condition case\n",
    "if gender =='m' or gender =='male' and age >= 18 : # if  age >= 18 and (gender =='m' or gender =='male') : Right\n",
    "    print('male okay')\n",
    "elif gender=='m' or gender=='male' and age < 18 :\n",
    "    print('male no')\n",
    "elif gender=='f' or gender=='female' and age >= 20 :\n",
    "    print('female okay')\n",
    "elif gender=='f' or gender=='female' and age < 20 :\n",
    "    print(\"female no\")\n",
    "else :\n",
    "    print ('invalid input')"
   ]
  },
  {
   "cell_type": "code",
   "execution_count": 16,
   "metadata": {},
   "outputs": [
    {
     "name": "stdout",
     "output_type": "stream",
     "text": [
      "plz enter 1st num :10\n",
      "plz enter 2nd num :10\n",
      "plz enter operand :x\n",
      "result : 100.0\n"
     ]
    }
   ],
   "source": [
    "#lab3 if condition calculator\n",
    "#what is different between if and elif\n",
    "# \\ is specail char \\n \\t \\\\\n",
    "#-----------------------------\n",
    "#read inputs\n",
    "num1 = input('plz enter 1st num :')\n",
    "num2 = input('plz enter 2nd num :')\n",
    "#read operator\n",
    "op = input ('plz enter operand :')\n",
    "#convert inputs to numbers\n",
    "num1=float(num1)\n",
    "num2=float(num2)\n",
    "#condition\n",
    "if op=='+' :\n",
    "    result=num1 + num2\n",
    "    print('result :',result)\n",
    "if op=='-' :\n",
    "    result=num1 - num2\n",
    "    print('result :',result)\n",
    "if op=='*' or op=='x' or op=='X' :\n",
    "    result=num1 * num2\n",
    "    print('result :',result)\n",
    "if op=='/' or op=='\\\\' :\n",
    "    result=num1 / num2\n",
    "    print('result :',result)"
   ]
  },
  {
   "cell_type": "code",
   "execution_count": 27,
   "metadata": {},
   "outputs": [
    {
     "data": {
      "text/plain": [
       "1"
      ]
     },
     "execution_count": 27,
     "metadata": {},
     "output_type": "execute_result"
    }
   ],
   "source": [
    "#List : collection of values store in one variable \n",
    "#(every value have index number start with 0)\n",
    "#what is differnt between list and array\n",
    "#list :have differnt Datatypes of values in same list  | #array : have same datatypes of values in same array\n",
    "#      dynamic length size                             |          fixed lenth size #cannot insert new value \n",
    "# EX:  firstlist =[1,12,5.3,44,5,'ayman','ahmed']      |#Ex:     numarray =[11,22,3,4,56,67,7] \n",
    "#---------------------------------------------------------------------------------------------------------\n",
    "firstlist =[1,12,5.3,44,5,'ayman','ahmed']\n",
    "firstlist[0]"
   ]
  },
  {
   "cell_type": "code",
   "execution_count": 29,
   "metadata": {},
   "outputs": [
    {
     "data": {
      "text/plain": [
       "'ahmed'"
      ]
     },
     "execution_count": 29,
     "metadata": {},
     "output_type": "execute_result"
    }
   ],
   "source": [
    "firstlist[-1] #return value"
   ]
  },
  {
   "cell_type": "code",
   "execution_count": 30,
   "metadata": {},
   "outputs": [
    {
     "data": {
      "text/plain": [
       "[1, 12, 5.3, 44]"
      ]
     },
     "execution_count": 30,
     "metadata": {},
     "output_type": "execute_result"
    }
   ],
   "source": [
    "# list [start:end] \n",
    "#end index not get it in result      \n",
    "#return list\n",
    "firstlist[0:4]"
   ]
  },
  {
   "cell_type": "code",
   "execution_count": 31,
   "metadata": {},
   "outputs": [
    {
     "data": {
      "text/plain": [
       "[12, 5.3, 44]"
      ]
     },
     "execution_count": 31,
     "metadata": {},
     "output_type": "execute_result"
    }
   ],
   "source": [
    "firstlist[1:4] "
   ]
  },
  {
   "cell_type": "code",
   "execution_count": 32,
   "metadata": {},
   "outputs": [
    {
     "data": {
      "text/plain": [
       "[12, 5.3, 44, 5, 'ayman', 'ahmed']"
      ]
     },
     "execution_count": 32,
     "metadata": {},
     "output_type": "execute_result"
    }
   ],
   "source": [
    "firstlist[1:]"
   ]
  },
  {
   "cell_type": "code",
   "execution_count": 33,
   "metadata": {},
   "outputs": [
    {
     "data": {
      "text/plain": [
       "[1, 12, 5.3, 44, 5, 'ayman', 'ahmed']"
      ]
     },
     "execution_count": 33,
     "metadata": {},
     "output_type": "execute_result"
    }
   ],
   "source": [
    "firstlist[:]"
   ]
  },
  {
   "cell_type": "code",
   "execution_count": 34,
   "metadata": {},
   "outputs": [
    {
     "data": {
      "text/plain": [
       "[1, 12, 5.3, 44, 5, 'ayman']"
      ]
     },
     "execution_count": 34,
     "metadata": {},
     "output_type": "execute_result"
    }
   ],
   "source": [
    "firstlist[:-1]"
   ]
  },
  {
   "cell_type": "code",
   "execution_count": 72,
   "metadata": {},
   "outputs": [
    {
     "data": {
      "text/plain": [
       "['ahmed', 'mohamed', 'ayman', 'doc', 'sec', 'eng']"
      ]
     },
     "execution_count": 72,
     "metadata": {},
     "output_type": "execute_result"
    }
   ],
   "source": [
    "#List Operation + | * | in operator for condition\n",
    "\n",
    "names=['ahmed','mohamed','ayman']\n",
    "jobs =['doc','sec','eng']\n",
    "#first : + operation (cancutnate and return values in list)\n",
    "names + jobs"
   ]
  },
  {
   "cell_type": "code",
   "execution_count": 73,
   "metadata": {},
   "outputs": [
    {
     "data": {
      "text/plain": [
       "['ahmed', 'mohamed', 'ayman', 'ahmed', 'mohamed', 'ayman']"
      ]
     },
     "execution_count": 73,
     "metadata": {},
     "output_type": "execute_result"
    }
   ],
   "source": [
    "#second : * cannot (list * list) but can (list * 3)\n",
    "names * 2"
   ]
  },
  {
   "cell_type": "code",
   "execution_count": 74,
   "metadata": {},
   "outputs": [
    {
     "data": {
      "text/plain": [
       "['doc', 'sec', 'eng', 'doc', 'sec', 'eng']"
      ]
     },
     "execution_count": 74,
     "metadata": {},
     "output_type": "execute_result"
    }
   ],
   "source": [
    "jobs * 2"
   ]
  },
  {
   "cell_type": "code",
   "execution_count": null,
   "metadata": {},
   "outputs": [],
   "source": [
    "#third : in \n",
    "'doc' in jobs"
   ]
  },
  {
   "cell_type": "code",
   "execution_count": null,
   "metadata": {},
   "outputs": [],
   "source": [
    "'Ayman' in names"
   ]
  },
  {
   "cell_type": "code",
   "execution_count": null,
   "metadata": {},
   "outputs": [],
   "source": [
    "if 'ayman' in names :\n",
    "    print (\"ayman in this list :D\")\n",
    "else :\n",
    "    print (\"Bye\")"
   ]
  },
  {
   "cell_type": "code",
   "execution_count": 35,
   "metadata": {},
   "outputs": [
    {
     "data": {
      "text/plain": [
       "[1, 12, 'mohamed', 44, 5, 'ayman', 'ahmed']"
      ]
     },
     "execution_count": 35,
     "metadata": {},
     "output_type": "execute_result"
    }
   ],
   "source": [
    "#list  Update |  Insert | Delete\n",
    "\n",
    "#first : update with any datatype value\n",
    "firstlist =[1,12,5.3,44,5,'ayman','ahmed']\n",
    "firstlist[2]='mohamed'\n",
    "firstlist"
   ]
  },
  {
   "cell_type": "code",
   "execution_count": 67,
   "metadata": {},
   "outputs": [
    {
     "data": {
      "text/plain": [
       "[1, 12, 'mohamed', 5.3, 44, 5, 'ayman', 'mohamed', 'ahmed']"
      ]
     },
     "execution_count": 67,
     "metadata": {},
     "output_type": "execute_result"
    }
   ],
   "source": [
    "#second :insert value\n",
    "#list.insert(index,value)\n",
    "firstlist =[1,12,5.3,44,5,'ayman','ahmed']\n",
    "firstlist.insert(2,'mohamed')\n",
    "firstlist\n",
    "firstlist.insert(-1,'mohamed')\n",
    "firstlist"
   ]
  },
  {
   "cell_type": "code",
   "execution_count": 68,
   "metadata": {},
   "outputs": [
    {
     "data": {
      "text/plain": [
       "[1, 12, 5.3, 44, 5, 'ayman', 'ahmed', 'yes']"
      ]
     },
     "execution_count": 68,
     "metadata": {},
     "output_type": "execute_result"
    }
   ],
   "source": [
    "firstlist =[1,12,5.3,44,5,'ayman','ahmed']\n",
    "lenth=len(firstlist)\n",
    "firstlist.insert(lenth,'yes')\n",
    "firstlist"
   ]
  },
  {
   "cell_type": "code",
   "execution_count": 75,
   "metadata": {},
   "outputs": [
    {
     "data": {
      "text/plain": [
       "[1, 12, 44, 5, 'ayman', 'ahmed']"
      ]
     },
     "execution_count": 75,
     "metadata": {},
     "output_type": "execute_result"
    }
   ],
   "source": [
    "#third :delete value from list\n",
    "#first way\n",
    "firstlist =[1,12,5.3,44,5,'ayman','ahmed']\n",
    "del(firstlist[2])\n",
    "firstlist"
   ]
  },
  {
   "cell_type": "code",
   "execution_count": 70,
   "metadata": {},
   "outputs": [
    {
     "ename": "NameError",
     "evalue": "name 'firstlist' is not defined",
     "output_type": "error",
     "traceback": [
      "\u001b[1;31m---------------------------------------------------------------------------\u001b[0m",
      "\u001b[1;31mNameError\u001b[0m                                 Traceback (most recent call last)",
      "\u001b[1;32m<ipython-input-70-d03fc43b5a4c>\u001b[0m in \u001b[0;36m<module>\u001b[1;34m()\u001b[0m\n\u001b[0;32m      2\u001b[0m \u001b[0mfirstlist\u001b[0m \u001b[1;33m=\u001b[0m\u001b[1;33m[\u001b[0m\u001b[1;36m1\u001b[0m\u001b[1;33m,\u001b[0m\u001b[1;36m12\u001b[0m\u001b[1;33m,\u001b[0m\u001b[1;36m5.3\u001b[0m\u001b[1;33m,\u001b[0m\u001b[1;36m44\u001b[0m\u001b[1;33m,\u001b[0m\u001b[1;36m5\u001b[0m\u001b[1;33m,\u001b[0m\u001b[1;34m'ayman'\u001b[0m\u001b[1;33m,\u001b[0m\u001b[1;34m'ahmed'\u001b[0m\u001b[1;33m]\u001b[0m\u001b[1;33m\u001b[0m\u001b[0m\n\u001b[0;32m      3\u001b[0m \u001b[1;32mdel\u001b[0m\u001b[1;33m[\u001b[0m\u001b[0mfirstlist\u001b[0m\u001b[1;33m]\u001b[0m\u001b[1;33m\u001b[0m\u001b[0m\n\u001b[1;32m----> 4\u001b[1;33m \u001b[0mfirstlist\u001b[0m\u001b[1;33m\u001b[0m\u001b[0m\n\u001b[0m",
      "\u001b[1;31mNameError\u001b[0m: name 'firstlist' is not defined"
     ]
    }
   ],
   "source": [
    "#delete list\n",
    "firstlist =[1,12,5.3,44,5,'ayman','ahmed']\n",
    "del[firstlist]\n",
    "firstlist"
   ]
  },
  {
   "cell_type": "code",
   "execution_count": 76,
   "metadata": {},
   "outputs": [
    {
     "data": {
      "text/plain": [
       "'ahmed'"
      ]
     },
     "execution_count": 76,
     "metadata": {},
     "output_type": "execute_result"
    }
   ],
   "source": [
    "#second way \n",
    "#pop() method return last value from list and delete it\n",
    "firstlist.pop()"
   ]
  },
  {
   "cell_type": "code",
   "execution_count": 77,
   "metadata": {},
   "outputs": [
    {
     "data": {
      "text/plain": [
       "[1, 12, 44, 5, 'ayman']"
      ]
     },
     "execution_count": 77,
     "metadata": {},
     "output_type": "execute_result"
    }
   ],
   "source": [
    "firstlist"
   ]
  },
  {
   "cell_type": "code",
   "execution_count": 78,
   "metadata": {},
   "outputs": [],
   "source": [
    "#third way \n",
    "#remove(you want delete it ) method \n",
    "firstlist.remove('ayman')"
   ]
  },
  {
   "cell_type": "code",
   "execution_count": 79,
   "metadata": {},
   "outputs": [
    {
     "data": {
      "text/plain": [
       "[1, 12, 44, 5]"
      ]
     },
     "execution_count": 79,
     "metadata": {},
     "output_type": "execute_result"
    }
   ],
   "source": [
    "firstlist"
   ]
  },
  {
   "cell_type": "code",
   "execution_count": 80,
   "metadata": {},
   "outputs": [
    {
     "data": {
      "text/plain": [
       "[12, 44, 5]"
      ]
     },
     "execution_count": 80,
     "metadata": {},
     "output_type": "execute_result"
    }
   ],
   "source": [
    "firstlist.remove(1)\n",
    "firstlist"
   ]
  },
  {
   "cell_type": "code",
   "execution_count": 93,
   "metadata": {},
   "outputs": [
    {
     "name": "stdout",
     "output_type": "stream",
     "text": [
      "4\n",
      "4\n"
     ]
    }
   ],
   "source": [
    "#functions of list\n",
    "numbers=[4,9.9,22,55]\n",
    "namees=['mohamed','abdalla','hamza','ayman']\n",
    "#1-lenth\n",
    "print(len(numbers))\n",
    "print(len(namees))"
   ]
  },
  {
   "cell_type": "code",
   "execution_count": 94,
   "metadata": {},
   "outputs": [
    {
     "name": "stdout",
     "output_type": "stream",
     "text": [
      "4\n",
      "abdalla\n",
      "55\n",
      "mohamed\n"
     ]
    }
   ],
   "source": [
    "#2-minumam maxinum\n",
    "print (min(numbers))\n",
    "print (min(namees))\n",
    "\n",
    "print (max(numbers))\n",
    "print (max(namees))"
   ]
  },
  {
   "cell_type": "code",
   "execution_count": 95,
   "metadata": {},
   "outputs": [
    {
     "ename": "IndexError",
     "evalue": "list assignment index out of range",
     "output_type": "error",
     "traceback": [
      "\u001b[1;31m---------------------------------------------------------------------------\u001b[0m",
      "\u001b[1;31mIndexError\u001b[0m                                Traceback (most recent call last)",
      "\u001b[1;32m<ipython-input-95-0577bd71be38>\u001b[0m in \u001b[0;36m<module>\u001b[1;34m()\u001b[0m\n\u001b[0;32m      1\u001b[0m \u001b[1;31m#3-append important function\u001b[0m\u001b[1;33m\u001b[0m\u001b[1;33m\u001b[0m\u001b[0m\n\u001b[1;32m----> 2\u001b[1;33m \u001b[0mnumbers\u001b[0m\u001b[1;33m[\u001b[0m\u001b[1;36m4\u001b[0m\u001b[1;33m]\u001b[0m\u001b[1;33m=\u001b[0m\u001b[1;36m33\u001b[0m\u001b[1;33m\u001b[0m\u001b[0m\n\u001b[0m",
      "\u001b[1;31mIndexError\u001b[0m: list assignment index out of range"
     ]
    }
   ],
   "source": [
    "#3-append important function add value = insert(len(numbers),value)\n",
    "numbers[4]=33"
   ]
  },
  {
   "cell_type": "code",
   "execution_count": 96,
   "metadata": {},
   "outputs": [
    {
     "data": {
      "text/plain": [
       "[4, 9.9, 22, 55, 33]"
      ]
     },
     "execution_count": 96,
     "metadata": {},
     "output_type": "execute_result"
    }
   ],
   "source": [
    "numbers.append(33)\n",
    "numbers"
   ]
  },
  {
   "cell_type": "code",
   "execution_count": 99,
   "metadata": {},
   "outputs": [
    {
     "data": {
      "text/plain": [
       "[4, 9.9, 22, 55, 33, 66]"
      ]
     },
     "execution_count": 99,
     "metadata": {},
     "output_type": "execute_result"
    }
   ],
   "source": [
    "numbers.insert(len(numbers),66) # equal append\n",
    "numbers"
   ]
  },
  {
   "cell_type": "code",
   "execution_count": 100,
   "metadata": {},
   "outputs": [
    {
     "data": {
      "text/plain": [
       "2"
      ]
     },
     "execution_count": 100,
     "metadata": {},
     "output_type": "execute_result"
    }
   ],
   "source": [
    "#4-count function عدد تكرار قيمه داخل ليست\n",
    "numbers.append(33)\n",
    "numbers.count(33)"
   ]
  },
  {
   "cell_type": "code",
   "execution_count": 102,
   "metadata": {},
   "outputs": [
    {
     "name": "stdout",
     "output_type": "stream",
     "text": [
      "[4, 9.9, 22, 55, 33, 66, 33]\n"
     ]
    },
    {
     "data": {
      "text/plain": [
       "1"
      ]
     },
     "execution_count": 102,
     "metadata": {},
     "output_type": "execute_result"
    }
   ],
   "source": [
    "print(numbers)\n",
    "numbers.count(4)"
   ]
  },
  {
   "cell_type": "code",
   "execution_count": 109,
   "metadata": {},
   "outputs": [
    {
     "name": "stdout",
     "output_type": "stream",
     "text": [
      "['ahmed', 'mohamed', 'ayman', 'doc', 'sec', 'eng']\n"
     ]
    },
    {
     "data": {
      "text/plain": [
       "['ahmed', 'mohamed', 'ayman', 'doc', 'sec', 'eng', 'doc', 'sec', 'eng']"
      ]
     },
     "execution_count": 109,
     "metadata": {},
     "output_type": "execute_result"
    }
   ],
   "source": [
    "#5-extend function\n",
    "names=['ahmed','mohamed','ayman']\n",
    "jobs =['doc','sec','eng']\n",
    "names.extend(jobs)\n",
    "print(names)\n",
    "#after extend names = ['ahmed', 'mohamed', 'ayman', 'doc', 'sec', 'eng'] \n",
    "#what is different between + operator and extend function\n",
    "newlist = names + jobs\n",
    "newlist"
   ]
  },
  {
   "cell_type": "code",
   "execution_count": 106,
   "metadata": {},
   "outputs": [
    {
     "data": {
      "text/plain": [
       "1"
      ]
     },
     "execution_count": 106,
     "metadata": {},
     "output_type": "execute_result"
    }
   ],
   "source": [
    "#6-index function\n",
    "names.index('mohamed')"
   ]
  },
  {
   "cell_type": "code",
   "execution_count": 110,
   "metadata": {},
   "outputs": [
    {
     "data": {
      "text/plain": [
       "3"
      ]
     },
     "execution_count": 110,
     "metadata": {},
     "output_type": "execute_result"
    }
   ],
   "source": [
    "newlist.index('doc')"
   ]
  },
  {
   "cell_type": "code",
   "execution_count": 111,
   "metadata": {},
   "outputs": [
    {
     "data": {
      "text/plain": [
       "2"
      ]
     },
     "execution_count": 111,
     "metadata": {},
     "output_type": "execute_result"
    }
   ],
   "source": [
    "newlist.count('doc')"
   ]
  },
  {
   "cell_type": "code",
   "execution_count": 119,
   "metadata": {},
   "outputs": [],
   "source": [
    "#7-reverse function\n",
    "names.reverse()"
   ]
  },
  {
   "cell_type": "code",
   "execution_count": 116,
   "metadata": {},
   "outputs": [
    {
     "data": {
      "text/plain": [
       "['eng', 'sec', 'doc', 'ayman', 'mohamed', 'ahmed']"
      ]
     },
     "execution_count": 116,
     "metadata": {},
     "output_type": "execute_result"
    }
   ],
   "source": [
    "names"
   ]
  },
  {
   "cell_type": "code",
   "execution_count": 117,
   "metadata": {},
   "outputs": [
    {
     "data": {
      "text/plain": [
       "['ahmed', 'ayman', 'doc', 'eng', 'mohamed', 'sec']"
      ]
     },
     "execution_count": 117,
     "metadata": {},
     "output_type": "execute_result"
    }
   ],
   "source": [
    "#8-sort function\n",
    "names.sort()\n",
    "names"
   ]
  },
  {
   "cell_type": "code",
   "execution_count": 143,
   "metadata": {},
   "outputs": [
    {
     "name": "stdout",
     "output_type": "stream",
     "text": [
      "[[...], 2, 3, 4, 5]\n",
      "[5, 4, 3, 2, [...]]\n",
      "[5, 4, 3, 2, 1]\n"
     ]
    }
   ],
   "source": [
    "#lab chalange\n",
    "x = [1,2,3,4,5]\n",
    "x[0]=x\n",
    "print(x)\n",
    "x[0][0].reverse()\n",
    "print(x)\n",
    "x[-1].insert(-1,1)\n",
    "print(x[:-1])"
   ]
  },
  {
   "cell_type": "code",
   "execution_count": 172,
   "metadata": {},
   "outputs": [
    {
     "name": "stdout",
     "output_type": "stream",
     "text": [
      "ayman\n",
      "55\n"
     ]
    }
   ],
   "source": [
    "#tuple same as list in collection of different datatypes \n",
    "#but fixed lenth size and cannot update values and cannot delete items from tuple\n",
    "#why you need tuple important in functions\n",
    "namesT=('ayman','mohamed','hassan',2.2,55)\n",
    "print (namesT[0])\n",
    "print (namesT[-1])"
   ]
  },
  {
   "cell_type": "code",
   "execution_count": 146,
   "metadata": {},
   "outputs": [
    {
     "ename": "TypeError",
     "evalue": "'tuple' object does not support item assignment",
     "output_type": "error",
     "traceback": [
      "\u001b[1;31m---------------------------------------------------------------------------\u001b[0m",
      "\u001b[1;31mTypeError\u001b[0m                                 Traceback (most recent call last)",
      "\u001b[1;32m<ipython-input-146-b78fbb856713>\u001b[0m in \u001b[0;36m<module>\u001b[1;34m()\u001b[0m\n\u001b[1;32m----> 1\u001b[1;33m \u001b[0mnamesT\u001b[0m\u001b[1;33m[\u001b[0m\u001b[1;36m0\u001b[0m\u001b[1;33m]\u001b[0m\u001b[1;33m=\u001b[0m\u001b[1;34m'ibrahem'\u001b[0m\u001b[1;33m\u001b[0m\u001b[0m\n\u001b[0m",
      "\u001b[1;31mTypeError\u001b[0m: 'tuple' object does not support item assignment"
     ]
    }
   ],
   "source": [
    "namesT[0]='ibrahem'"
   ]
  },
  {
   "cell_type": "code",
   "execution_count": 148,
   "metadata": {},
   "outputs": [
    {
     "data": {
      "text/plain": [
       "('ayman', 'mohamed', 'hassan')"
      ]
     },
     "execution_count": 148,
     "metadata": {},
     "output_type": "execute_result"
    }
   ],
   "source": [
    "namesT[0:3]"
   ]
  },
  {
   "cell_type": "code",
   "execution_count": 153,
   "metadata": {},
   "outputs": [
    {
     "data": {
      "text/plain": [
       "('ayman', 'mohamed', 'hassan', 2.2)"
      ]
     },
     "execution_count": 153,
     "metadata": {},
     "output_type": "execute_result"
    }
   ],
   "source": [
    "namesT[:-1]"
   ]
  },
  {
   "cell_type": "code",
   "execution_count": 176,
   "metadata": {},
   "outputs": [
    {
     "name": "stdout",
     "output_type": "stream",
     "text": [
      "(11, 33, 33, 55, 4, 11, 33, 33, 55, 4)\n"
     ]
    },
    {
     "data": {
      "text/plain": [
       "True"
      ]
     },
     "execution_count": 176,
     "metadata": {},
     "output_type": "execute_result"
    }
   ],
   "source": [
    "#tuple operation + | * | in\n",
    "numT=(11,33,33,55,4)\n",
    "namesT + numT\n",
    "print(numT * 2)\n",
    "11 in numT"
   ]
  },
  {
   "cell_type": "code",
   "execution_count": 173,
   "metadata": {},
   "outputs": [
    {
     "name": "stdout",
     "output_type": "stream",
     "text": [
      "5\n"
     ]
    },
    {
     "data": {
      "text/plain": [
       "'ayman'"
      ]
     },
     "execution_count": 173,
     "metadata": {},
     "output_type": "execute_result"
    }
   ],
   "source": [
    "#functions of tuples\n",
    "print(len(namesT))\n",
    "namet=('ayman', 'mohamed', 'hassan')\n",
    "min(namet)"
   ]
  },
  {
   "cell_type": "code",
   "execution_count": 156,
   "metadata": {},
   "outputs": [
    {
     "data": {
      "text/plain": [
       "'mohamed'"
      ]
     },
     "execution_count": 156,
     "metadata": {},
     "output_type": "execute_result"
    }
   ],
   "source": [
    "max(namet)"
   ]
  },
  {
   "cell_type": "code",
   "execution_count": 158,
   "metadata": {},
   "outputs": [
    {
     "ename": "NameError",
     "evalue": "name 'namesT' is not defined",
     "output_type": "error",
     "traceback": [
      "\u001b[1;31m---------------------------------------------------------------------------\u001b[0m",
      "\u001b[1;31mNameError\u001b[0m                                 Traceback (most recent call last)",
      "\u001b[1;32m<ipython-input-158-b55129e4b1c1>\u001b[0m in \u001b[0;36m<module>\u001b[1;34m()\u001b[0m\n\u001b[1;32m----> 1\u001b[1;33m \u001b[1;32mdel\u001b[0m\u001b[1;33m(\u001b[0m\u001b[0mnamesT\u001b[0m\u001b[1;33m)\u001b[0m\u001b[1;33m\u001b[0m\u001b[0m\n\u001b[0m\u001b[0;32m      2\u001b[0m \u001b[0mnamesT\u001b[0m\u001b[1;33m\u001b[0m\u001b[0m\n",
      "\u001b[1;31mNameError\u001b[0m: name 'namesT' is not defined"
     ]
    }
   ],
   "source": [
    "del(namesT)\n",
    "namesT"
   ]
  },
  {
   "cell_type": "code",
   "execution_count": 159,
   "metadata": {},
   "outputs": [
    {
     "data": {
      "text/plain": [
       "tuple"
      ]
     },
     "execution_count": 159,
     "metadata": {},
     "output_type": "execute_result"
    }
   ],
   "source": [
    "type(namet)"
   ]
  },
  {
   "cell_type": "code",
   "execution_count": 164,
   "metadata": {},
   "outputs": [
    {
     "data": {
      "text/plain": [
       "list"
      ]
     },
     "execution_count": 164,
     "metadata": {},
     "output_type": "execute_result"
    }
   ],
   "source": [
    "#convet tuple to list\n",
    "namet=list(namet)\n",
    "type(namet)"
   ]
  },
  {
   "cell_type": "code",
   "execution_count": 165,
   "metadata": {},
   "outputs": [
    {
     "data": {
      "text/plain": [
       "['ayman', 'mohamed', 'hassan', 500, 500, 500]"
      ]
     },
     "execution_count": 165,
     "metadata": {},
     "output_type": "execute_result"
    }
   ],
   "source": [
    "namet.append(500)\n",
    "namet"
   ]
  },
  {
   "cell_type": "code",
   "execution_count": 167,
   "metadata": {},
   "outputs": [
    {
     "data": {
      "text/plain": [
       "('ayman', 'mohamed', 'hassan', 500, 500, 500)"
      ]
     },
     "execution_count": 167,
     "metadata": {},
     "output_type": "execute_result"
    }
   ],
   "source": [
    "namet = tuple(namet)\n",
    "namet"
   ]
  },
  {
   "cell_type": "code",
   "execution_count": 3,
   "metadata": {},
   "outputs": [
    {
     "data": {
      "text/plain": [
       "'ayman'"
      ]
     },
     "execution_count": 3,
     "metadata": {},
     "output_type": "execute_result"
    }
   ],
   "source": [
    "#dictionary modern of list not index of value but key\n",
    "#now key : value \n",
    "searchdic={'name':'ayman','age':25}\n",
    "searchdic['name']"
   ]
  },
  {
   "cell_type": "code",
   "execution_count": 4,
   "metadata": {},
   "outputs": [
    {
     "data": {
      "text/plain": [
       "{'age': 25, 'name': 'hasssan'}"
      ]
     },
     "execution_count": 4,
     "metadata": {},
     "output_type": "execute_result"
    }
   ],
   "source": [
    "#update values\n",
    "searchdic['name']='hasssan'\n",
    "searchdic"
   ]
  },
  {
   "cell_type": "code",
   "execution_count": 11,
   "metadata": {},
   "outputs": [
    {
     "data": {
      "text/plain": [
       "{'name': 'ayman'}"
      ]
     },
     "execution_count": 11,
     "metadata": {},
     "output_type": "execute_result"
    }
   ],
   "source": [
    "#functions\n",
    "#-delete item by key\n",
    "searchdic={'name':'ayman','age':25}\n",
    "del(searchdic['age'])\n",
    "searchdic"
   ]
  },
  {
   "cell_type": "code",
   "execution_count": 5,
   "metadata": {},
   "outputs": [],
   "source": [
    "##-delete dictionary\n",
    "del(searchdic)\n",
    "searchdic"
   ]
  },
  {
   "cell_type": "code",
   "execution_count": 8,
   "metadata": {},
   "outputs": [
    {
     "data": {
      "text/plain": [
       "{}"
      ]
     },
     "execution_count": 8,
     "metadata": {},
     "output_type": "execute_result"
    }
   ],
   "source": [
    "#clear all items in dictionary\n",
    "searchdic={'name':'ayman','age':25}\n",
    "searchdic.clear()\n",
    "searchdic"
   ]
  },
  {
   "cell_type": "code",
   "execution_count": 9,
   "metadata": {},
   "outputs": [
    {
     "data": {
      "text/plain": [
       "\"{'name': 'ayman', 'age': 25}\""
      ]
     },
     "execution_count": 9,
     "metadata": {},
     "output_type": "execute_result"
    }
   ],
   "source": [
    "#convert dictionary to string\n",
    "searchdic={'name':'ayman','age':25}\n",
    "str(searchdic)"
   ]
  },
  {
   "cell_type": "code",
   "execution_count": 12,
   "metadata": {},
   "outputs": [
    {
     "data": {
      "text/plain": [
       "{'age': 25, 'name': 'ayman'}"
      ]
     },
     "execution_count": 12,
     "metadata": {},
     "output_type": "execute_result"
    }
   ],
   "source": [
    "#copy items in dict1 to dict2\n",
    "searchdic={'name':'ayman','age':25}\n",
    "dict2=searchdic.copy()\n",
    "dict2"
   ]
  },
  {
   "cell_type": "code",
   "execution_count": 14,
   "metadata": {},
   "outputs": [
    {
     "name": "stdout",
     "output_type": "stream",
     "text": [
      "25\n",
      "25\n"
     ]
    }
   ],
   "source": [
    "#search by key two way\n",
    "searchdic={'name':'ayman','age':25}\n",
    "print (searchdic['age'])\n",
    "print (searchdic.get('age'))"
   ]
  },
  {
   "cell_type": "code",
   "execution_count": 15,
   "metadata": {},
   "outputs": [
    {
     "data": {
      "text/plain": [
       "dict_values(['ayman', 25])"
      ]
     },
     "execution_count": 15,
     "metadata": {},
     "output_type": "execute_result"
    }
   ],
   "source": [
    "#get all values in list\n",
    "searchdic={'name':'ayman','age':25}\n",
    "searchdic.values()"
   ]
  },
  {
   "cell_type": "code",
   "execution_count": 16,
   "metadata": {},
   "outputs": [
    {
     "data": {
      "text/plain": [
       "dict_keys(['name', 'age'])"
      ]
     },
     "execution_count": 16,
     "metadata": {},
     "output_type": "execute_result"
    }
   ],
   "source": [
    "#get all keys in list\n",
    "searchdic={'name':'ayman','age':25}\n",
    "searchdic.keys()"
   ]
  },
  {
   "cell_type": "code",
   "execution_count": 17,
   "metadata": {},
   "outputs": [
    {
     "data": {
      "text/plain": [
       "dict_items([('name', 'ayman'), ('age', 25)])"
      ]
     },
     "execution_count": 17,
     "metadata": {},
     "output_type": "execute_result"
    }
   ],
   "source": [
    "#get every key|value in tuple inside list\n",
    "searchdic={'name':'ayman','age':25}\n",
    "searchdic.items()"
   ]
  },
  {
   "cell_type": "code",
   "execution_count": 21,
   "metadata": {},
   "outputs": [
    {
     "data": {
      "text/plain": [
       "{'age': None, 'name': None, 'postion': None, 'salary': None}"
      ]
     },
     "execution_count": 21,
     "metadata": {},
     "output_type": "execute_result"
    }
   ],
   "source": [
    "#take keys from list\n",
    "list1=['name','age','salary','postion']\n",
    "dict1=dict.fromkeys(list1)\n",
    "dict1"
   ]
  },
  {
   "cell_type": "code",
   "execution_count": 27,
   "metadata": {},
   "outputs": [
    {
     "name": "stdout",
     "output_type": "stream",
     "text": [
      "m\n",
      "n\n",
      "my name is ayma\n",
      "name is ayman\n",
      "my name \\ is ayman\n",
      "my name \t is ayman\n",
      "my name \n",
      " is ayman\n",
      "my name is ayman\n",
      "my name is mohamed , 25 year\n",
      "my name is ayman , 25 year\n",
      "11\n"
     ]
    },
    {
     "data": {
      "text/plain": [
       "['my', 'name', 'is', 'mohamed', ',', '25', 'year']"
      ]
     },
     "execution_count": 27,
     "metadata": {},
     "output_type": "execute_result"
    }
   ],
   "source": [
    "#string\n",
    "msg ='my name is ayman'\n",
    "#get char by location\n",
    "print(msg[0])\n",
    "print(msg[-1])\n",
    "#Slicing\n",
    "print(msg[:-1])\n",
    "print(msg[3:])\n",
    "#special char | Escape characters  \\\\ \\t \\n >>>\n",
    "msg ='my name \\\\ is ayman'\n",
    "print(msg)\n",
    "msg ='my name \\t is ayman'\n",
    "print(msg)\n",
    "msg ='my name \\n is ayman'\n",
    "print(msg)\n",
    "#String formating (  percentage %  + character s for string d for decimal )\n",
    "msg ='my name is %s' % ('ayman')\n",
    "print (msg)\n",
    "\n",
    "name= 'mohamed'\n",
    "age =25\n",
    "msg ='my name is %s , %d year' % (name,age)\n",
    "print (msg)\n",
    "#functions\n",
    "#1-replace character must use built in functions return message after change only\n",
    "msg_update=msg.replace('mohamed','ayman')\n",
    "print(msg_update)\n",
    "#2-lenth of string\n",
    "len(msg)\n",
    "#3-index of char start from index\n",
    "msg.index('mohamed')\n",
    "print(msg_in)\n",
    "#4-capital char\n",
    "msg.capitalize()\n",
    "#5-split return list have words in string any (sperator)\n",
    "msg.split(' ')\n",
    "##############################################################################################\n",
    "##Note## important go to https://www.tutorialspoint.com/python/index.htm built in functions ##\n",
    "##############################################################################################"
   ]
  },
  {
   "cell_type": "code",
   "execution_count": 43,
   "metadata": {},
   "outputs": [
    {
     "name": "stdout",
     "output_type": "stream",
     "text": [
      "m\n",
      "y\n",
      " \n",
      "n\n",
      "m\n",
      "m\n",
      "n\n",
      "range(0, 10)\n",
      "[0, 1, 2, 3, 4, 5, 6, 7, 8, 9]\n",
      "[2, 4, 6, 8]\n",
      "0\n",
      "1\n",
      "2\n",
      "3\n",
      "4\n",
      "5\n",
      "6\n",
      "7\n",
      "8\n",
      "9\n",
      "m\n",
      "y\n",
      " \n",
      "n\n",
      "a\n",
      "m\n",
      "e\n",
      " \n",
      "i\n",
      "s\n",
      " \n",
      "a\n",
      "y\n",
      "m\n",
      "a\n",
      "n\n"
     ]
    }
   ],
   "source": [
    "#loops two way\n",
    "#why need loops ? asumme that need print chars of string  \n",
    "msg='my name is ayman'\n",
    "print(msg[0])\n",
    "print(msg[1]) \n",
    "print(msg[2])\n",
    "print(msg[3])\n",
    "print(msg[5])\n",
    "#first type :for loop\n",
    "# must Know Start + End + Step\n",
    "#start 'm'\n",
    "print(msg[0])\n",
    "#End   'n'\n",
    "print(msg[len(msg)-1])\n",
    "#step  using range function \n",
    "num = range(10)\n",
    "print(num)\n",
    "num = list(num)\n",
    "print (num)\n",
    "number =range(2,10,2)\n",
    "number = list(number)\n",
    "print(number)\n",
    "#----------------------------------------------------\n",
    "for n in range(10) :\n",
    "    print(n)\n",
    "lenth=len(msg)\n",
    "for s in range(lenth) :\n",
    "    print(msg[s])"
   ]
  },
  {
   "cell_type": "code",
   "execution_count": 51,
   "metadata": {},
   "outputs": [
    {
     "name": "stdout",
     "output_type": "stream",
     "text": [
      "m\n",
      "y\n",
      " \n",
      "n\n",
      "a\n",
      "m\n",
      "e\n",
      " \n",
      "i\n",
      "s\n",
      " \n",
      "a\n",
      "y\n",
      "m\n",
      "a\n",
      "n\n",
      "ahmed\n",
      "ayman\n",
      "mohamed\n",
      "name ........ ayman\n",
      "age ........ 25\n",
      "gender ........ male\n",
      "name\n",
      "age\n",
      "gender\n",
      "ayman\n",
      "25\n",
      "male\n"
     ]
    }
   ],
   "source": [
    "#note# you can print char without index\n",
    "msg='my name is ayman'\n",
    "for s in msg :\n",
    "    print(s)\n",
    "#for loop with list\n",
    "name_list=['ahmed','ayman','mohamed']\n",
    "for name in name_list :\n",
    "    print(name)\n",
    "#for loop with dictionary\n",
    "info_dict = {'name':'ayman','age':25,'gender':'male'}\n",
    "for key,value in info_dict.items():\n",
    "    print(key,\"........\",value)\n",
    "\n",
    "for key in info_dict.keys():\n",
    "    print(key)\n",
    "\n",
    "for value in info_dict.values():\n",
    "    print(value)"
   ]
  },
  {
   "cell_type": "code",
   "execution_count": null,
   "metadata": {},
   "outputs": [],
   "source": [
    "#second type :while loop\n",
    "#when no start no end no step cannot for loop\n",
    "#for example: when user press X Quit\n",
    "#while run with condition why use if Noooo while is loop run multi times not once\n",
    "num = input('plz enter your number')\n",
    "#convert\n",
    "num = int(num)\n",
    "while num !=0 :\n",
    "    print('continue')    "
   ]
  },
  {
   "cell_type": "code",
   "execution_count": 2,
   "metadata": {},
   "outputs": [
    {
     "name": "stdout",
     "output_type": "stream",
     "text": [
      "*****"
     ]
    }
   ],
   "source": [
    "#nested Loop\n",
    "#*****\n",
    "for i in range(5):\n",
    "    print('*',end='')"
   ]
  },
  {
   "cell_type": "code",
   "execution_count": 5,
   "metadata": {},
   "outputs": [
    {
     "name": "stdout",
     "output_type": "stream",
     "text": [
      "*****\n",
      "\n",
      "*****\n",
      "\n"
     ]
    }
   ],
   "source": [
    "#*****\n",
    "#*****\n",
    "for line in range(2) :             #for raws\n",
    "    for i in range(5):             #for coulms\n",
    "        print('*',end='')\n",
    "    print('\\n')"
   ]
  },
  {
   "cell_type": "code",
   "execution_count": 23,
   "metadata": {},
   "outputs": [
    {
     "name": "stdout",
     "output_type": "stream",
     "text": [
      "plz enter raw number :10\n",
      "**********\n",
      "\n",
      "*********\n",
      "\n",
      "********\n",
      "\n",
      "*******\n",
      "\n",
      "******\n",
      "\n",
      "*****\n",
      "\n",
      "****\n",
      "\n",
      "***\n",
      "\n",
      "**\n",
      "\n",
      "*\n",
      "\n"
     ]
    }
   ],
   "source": [
    "#*****\n",
    "#****\n",
    "#***\n",
    "#**\n",
    "#*\n",
    "step =int(input(\"plz enter raw number :\"))\n",
    "for line in range(step) :                   #for raws\n",
    "    for i in range(step):                   #for coulms\n",
    "        print('*',end='')\n",
    "    step=step-1\n",
    "    print('\\n')"
   ]
  },
  {
   "cell_type": "code",
   "execution_count": 25,
   "metadata": {},
   "outputs": [
    {
     "name": "stdout",
     "output_type": "stream",
     "text": [
      "plz enter raw number :5\n",
      "*\n",
      "\n",
      "**\n",
      "\n",
      "***\n",
      "\n",
      "****\n",
      "\n",
      "*****\n",
      "\n"
     ]
    }
   ],
   "source": [
    "#*\n",
    "#**\n",
    "#***\n",
    "#****\n",
    "#*****\n",
    "step =int(input(\"plz enter raw number :\"))\n",
    "start=step-1\n",
    "for line in range(step) :                   #for raws\n",
    "    for i in range(step-start):                   #for coulms\n",
    "        print('*',end='')\n",
    "    step=step+1\n",
    "    print('\\n')"
   ]
  },
  {
   "cell_type": "code",
   "execution_count": 62,
   "metadata": {},
   "outputs": [
    {
     "name": "stdout",
     "output_type": "stream",
     "text": [
      "plz enter raw number :7\n",
      "       *\n",
      "\n",
      "      ***\n",
      "\n",
      "     *****\n",
      "\n",
      "    *******\n",
      "\n",
      "   *********\n",
      "\n",
      "  ***********\n",
      "\n",
      " *************\n",
      "\n"
     ]
    }
   ],
   "source": [
    "#   *\n",
    "#  ***\n",
    "# *****\n",
    "raws = int(input(\"plz enter raw number :\"))\n",
    "coulm = raws-1\n",
    "indent=raws\n",
    "for line in range(raws) :                   #for raws\n",
    "    print(indent*' ',end='')\n",
    "    for i in range(raws-coulm):                   #for coulms                   \n",
    "        print('*',end='')    \n",
    "    raws=raws+2\n",
    "    indent=indent-1\n",
    "    print('\\n')"
   ]
  },
  {
   "cell_type": "code",
   "execution_count": 65,
   "metadata": {},
   "outputs": [
    {
     "name": "stdout",
     "output_type": "stream",
     "text": [
      "p\n",
      "y\n",
      "t\n",
      "p\n",
      "y\n",
      "t\n",
      "o\n",
      "n\n",
      "p\n",
      "y\n",
      "t\n",
      "o\n",
      "n\n"
     ]
    }
   ],
   "source": [
    "#control behavior of loops \n",
    "#1-break : Quit from loop \n",
    "#2-continue : cancel this iteration and continue next iteration\n",
    "#3-pass : not do any thing \n",
    "msg ='python'\n",
    "for ch in msg :\n",
    "    if ch =='h' :\n",
    "        break\n",
    "    else :\n",
    "        print(ch)\n",
    "##############################################\n",
    "msg ='python'\n",
    "for ch in msg :\n",
    "    if ch =='h' :\n",
    "        continue    #cancel iteration + continue\n",
    "    else :\n",
    "        print(ch)\n",
    "##############################################\n",
    "msg ='python'\n",
    "for ch in msg :\n",
    "    if ch =='h' :\n",
    "        pass\n",
    "    else :\n",
    "        print(ch)"
   ]
  },
  {
   "cell_type": "code",
   "execution_count": 3,
   "metadata": {},
   "outputs": [
    {
     "name": "stdout",
     "output_type": "stream",
     "text": [
      "*****\n",
      "\n",
      "*****\n",
      "\n",
      "Hello word\n",
      "*****\n",
      "\n",
      "*****\n",
      "\n"
     ]
    }
   ],
   "source": [
    "#functions : Block of code repeated عامل مشترك \n",
    "#*****\n",
    "#*****\n",
    "#hello word\n",
    "#*****\n",
    "#*****\n",
    "for line in range(2) :             #for raws\n",
    "    for i in range(5):             #for coulms\n",
    "        print('*',end='')\n",
    "    print('\\n')\n",
    "print('Hello word')\n",
    "for line in range(2) :             #for raws\n",
    "    for i in range(5):             #for coulms\n",
    "        print('*',end='')\n",
    "    print('\\n')\n",
    "#that is problem the same code repeated in math  5+15  >>>>> 5(1+3)"
   ]
  },
  {
   "cell_type": "code",
   "execution_count": 4,
   "metadata": {},
   "outputs": [
    {
     "name": "stdout",
     "output_type": "stream",
     "text": [
      "*****\n",
      "\n",
      "*****\n",
      "\n",
      "hello world\n",
      "*****\n",
      "\n",
      "*****\n",
      "\n"
     ]
    }
   ],
   "source": [
    "def print_star ():\n",
    "    for line in range(2) :             #for raws\n",
    "        for i in range(5):             #for coulms\n",
    "            print('*',end='')\n",
    "        print('\\n')\n",
    "\n",
    "print_star()                           #function calling\n",
    "print('hello world') \n",
    "print_star()                           #function calling"
   ]
  },
  {
   "cell_type": "code",
   "execution_count": 6,
   "metadata": {},
   "outputs": [
    {
     "name": "stdout",
     "output_type": "stream",
     "text": [
      "*****\n",
      "\n",
      "*****\n",
      "\n",
      "*****\n",
      "\n",
      "hello world\n",
      "*****\n",
      "\n",
      "*****\n",
      "\n"
     ]
    }
   ],
   "source": [
    "#polymorphism تعدد الاشكال|الاستخدام\n",
    "#*****\n",
    "#*****\n",
    "#*****\n",
    "#hello word\n",
    "#*****\n",
    "#*****\n",
    "def print_star (raw , col):\n",
    "    for line in range(raw) :             #for raws\n",
    "        for i in range(col):             #for coulms\n",
    "            print('*',end='')\n",
    "        print('\\n')\n",
    "\n",
    "print_star(3,5)                           #function calling #num of raw 3\n",
    "print('hello world') \n",
    "print_star(2,5)                           #function calling #num of raw 2"
   ]
  },
  {
   "cell_type": "code",
   "execution_count": 7,
   "metadata": {},
   "outputs": [
    {
     "ename": "TypeError",
     "evalue": "print_star() missing 1 required positional argument: 'col'",
     "output_type": "error",
     "traceback": [
      "\u001b[1;31m---------------------------------------------------------------------------\u001b[0m",
      "\u001b[1;31mTypeError\u001b[0m                                 Traceback (most recent call last)",
      "\u001b[1;32m<ipython-input-7-113dca2ecaf1>\u001b[0m in \u001b[0;36m<module>\u001b[1;34m()\u001b[0m\n\u001b[0;32m      1\u001b[0m \u001b[1;31m#types of arguments passing to function\u001b[0m\u001b[1;33m\u001b[0m\u001b[1;33m\u001b[0m\u001b[0m\n\u001b[0;32m      2\u001b[0m \u001b[1;31m#1-required argument\u001b[0m\u001b[1;33m\u001b[0m\u001b[1;33m\u001b[0m\u001b[0m\n\u001b[1;32m----> 3\u001b[1;33m \u001b[0mprint_star\u001b[0m\u001b[1;33m(\u001b[0m\u001b[1;36m2\u001b[0m\u001b[1;33m)\u001b[0m\u001b[1;33m\u001b[0m\u001b[0m\n\u001b[0m",
      "\u001b[1;31mTypeError\u001b[0m: print_star() missing 1 required positional argument: 'col'"
     ]
    }
   ],
   "source": [
    "#types of arguments passing to function\n",
    "#1-required argument\n",
    "print_star(2)  "
   ]
  },
  {
   "cell_type": "code",
   "execution_count": 8,
   "metadata": {},
   "outputs": [
    {
     "name": "stdout",
     "output_type": "stream",
     "text": [
      "*****\n",
      "\n",
      "hello world\n",
      "*****\n",
      "\n",
      "*****\n",
      "\n",
      "*****\n",
      "\n",
      "*****\n",
      "\n"
     ]
    }
   ],
   "source": [
    "#2-optional |default arguments \n",
    "def print_star (col , raw =1):          #must required first\n",
    "    for line in range(raw) :             #for raws\n",
    "        for i in range(col):             #for coulms\n",
    "            print('*',end='')\n",
    "        print('\\n')\n",
    "\n",
    "print_star(5)                           #function calling #num of raw default =1\n",
    "print('hello world') \n",
    "print_star(5,4)                           #function calling #num of raw 4"
   ]
  },
  {
   "cell_type": "code",
   "execution_count": 12,
   "metadata": {},
   "outputs": [
    {
     "name": "stdout",
     "output_type": "stream",
     "text": [
      "*\n",
      "\n",
      "hello world\n",
      "*\n",
      "\n",
      "*****\n",
      "\n",
      "*****\n",
      "\n",
      "*****\n",
      "\n",
      "*****\n",
      "\n"
     ]
    }
   ],
   "source": [
    "def print_star (col=1 , raw =1):          \n",
    "    for line in range(raw) :             #for raws\n",
    "        for i in range(col):             #for coulms\n",
    "            print('*',end='')\n",
    "        print('\\n')\n",
    "\n",
    "print_star()                           #function calling #num of raw default =1\n",
    "print('hello world') \n",
    "print_star()                           #function calling #num of raw default=1\n",
    "print_star(5,2)\n",
    "print_star(col=5,raw=2)"
   ]
  },
  {
   "cell_type": "code",
   "execution_count": 15,
   "metadata": {},
   "outputs": [
    {
     "name": "stdout",
     "output_type": "stream",
     "text": [
      "values in function [10, 20, 30, [40, 50, 60]]\n",
      "values out function [10, 20, 30, [40, 50, 60]]\n"
     ]
    }
   ],
   "source": [
    "##important## pass By value VS pass BY reference\n",
    "#in general python use pass by reference by default\n",
    "#function can take any datatype of varibles \n",
    "def changeme(myvalue):\n",
    "    myvalue.append([40,50,60])\n",
    "    print('values in function',myvalue)\n",
    "mylist=[10,20,30]\n",
    "changeme(mylist)\n",
    "print('values out function',mylist)\n",
    "#edit mylist also because use same version of mylist"
   ]
  },
  {
   "cell_type": "code",
   "execution_count": 16,
   "metadata": {},
   "outputs": [
    {
     "name": "stdout",
     "output_type": "stream",
     "text": [
      "values in function [50, 60, 70]\n",
      "values out function [10, 20, 30]\n"
     ]
    }
   ],
   "source": [
    "#when create new reference of variable not edit orignal (mylist)\n",
    "def changeme(myvalue):\n",
    "    #create new reference(overwrite old values with new value)\n",
    "    myvalue =[50,60,70]\n",
    "    print('values in function',myvalue)\n",
    "mylist=[10,20,30]\n",
    "changeme(mylist)\n",
    "print('values out function',mylist)\n",
    "\n",
    "##important## best practice when you want create new ref (overwite) do that out of function"
   ]
  },
  {
   "cell_type": "code",
   "execution_count": 17,
   "metadata": {},
   "outputs": [
    {
     "name": "stdout",
     "output_type": "stream",
     "text": [
      "result of summation 30\n",
      "total out 0\n"
     ]
    }
   ],
   "source": [
    "#varible scope (local or global)\n",
    "total =0 #this is global varible\n",
    "def summ(num1 , num2):\n",
    "    #this is loacl variable\n",
    "    total = num1 + num2\n",
    "    print('result of summation',total)\n",
    "summ(10,20)\n",
    "print('total out',total)"
   ]
  },
  {
   "cell_type": "code",
   "execution_count": 18,
   "metadata": {},
   "outputs": [
    {
     "name": "stdout",
     "output_type": "stream",
     "text": [
      "result of summation 30\n",
      "total out 30\n"
     ]
    }
   ],
   "source": [
    "#if i want use same global varible in function use keyword : global\n",
    "total =0 #this is global varible\n",
    "def summ(num1 , num2):\n",
    "    global total\n",
    "    total = num1 + num2\n",
    "    print('result of summation',total)\n",
    "summ(10,20)\n",
    "print('total out',total)"
   ]
  },
  {
   "cell_type": "code",
   "execution_count": 20,
   "metadata": {},
   "outputs": [
    {
     "name": "stdout",
     "output_type": "stream",
     "text": [
      "total out 0\n",
      "sumres= 30\n",
      "subres -10\n"
     ]
    }
   ],
   "source": [
    "total =0 #this is global varible\n",
    "def summ(num1 , num2):\n",
    "    #this is local variable\n",
    "    total = num1 + num2\n",
    "   #print('result of summation',total)\n",
    "    return(total)\n",
    "\n",
    "def subt(num1 , num2):\n",
    "    #this is local variable\n",
    "    total = num1 - num2\n",
    "    #print('result of subtract',total)\n",
    "    return(total)\n",
    "\n",
    "sumres=summ(10,20)\n",
    "subres=subt(10,20)\n",
    "print('total out',total)\n",
    "print('sumres=',sumres)\n",
    "print('subres',subres)\n"
   ]
  },
  {
   "cell_type": "code",
   "execution_count": 8,
   "metadata": {},
   "outputs": [],
   "source": [
    "#iTi Labs\n",
    "#implement your function delete all vowels character\n",
    "def Replace (string):\n",
    "    for ch in string :\n",
    "        if ch=='o' or ch=='i' or ch=='e' or ch =='a':\n",
    "            pass \n",
    "        else :\n",
    "            print(ch,end='')"
   ]
  },
  {
   "cell_type": "code",
   "execution_count": 10,
   "metadata": {},
   "outputs": [
    {
     "name": "stdout",
     "output_type": "stream",
     "text": [
      "plz enter your strings :ahmeeeed\n",
      "hmd"
     ]
    }
   ],
   "source": [
    "stringIN=input('plz enter your strings :')\n",
    "Replace(stringIN)"
   ]
  },
  {
   "cell_type": "code",
   "execution_count": 6,
   "metadata": {},
   "outputs": [
    {
     "name": "stdout",
     "output_type": "stream",
     "text": [
      "plz enter num of strings :3\n",
      "plz enter your strings :mobile\n",
      "plz enter your strings :ahmed\n",
      "plz enter your strings :mohamed\n",
      "mbl\n",
      "hmd\n",
      "mhmd\n"
     ]
    }
   ],
   "source": [
    "def Replace (list1) :\n",
    "    for value in list1:\n",
    "        for ch in value :\n",
    "            if ch=='o' or ch=='i' or ch=='e' or ch =='a':\n",
    "                pass \n",
    "            else :\n",
    "                print(ch,end='')\n",
    "        print(\"\")\n",
    "\n",
    "list1 =[]\n",
    "numOfstrings = int(input('plz enter num of strings :'))\n",
    "for n in range(numOfstrings):\n",
    "    stringIN = input('plz enter your strings :')\n",
    "    list1.append(stringIN)\n",
    "Replace(list1)"
   ]
  },
  {
   "cell_type": "code",
   "execution_count": 31,
   "metadata": {},
   "outputs": [
    {
     "name": "stdout",
     "output_type": "stream",
     "text": [
      "m b l \n"
     ]
    }
   ],
   "source": [
    "#use built-in function help you (translate)\n",
    "str='mobile'\n",
    "trantab = str.maketrans(\"aieon\", \"     \")\n",
    "print (str.translate(trantab))"
   ]
  },
  {
   "cell_type": "code",
   "execution_count": 28,
   "metadata": {},
   "outputs": [
    {
     "name": "stdout",
     "output_type": "stream",
     "text": [
      "ths s strng xmpl....ww!!!\n"
     ]
    }
   ],
   "source": [
    "str = \"this is string example....wow!!!\";\n",
    "trantab = str.maketrans(dict.fromkeys('aeoiu'))\n",
    "print (str.translate(trantab))"
   ]
  },
  {
   "cell_type": "code",
   "execution_count": 35,
   "metadata": {},
   "outputs": [
    {
     "name": "stdout",
     "output_type": "stream",
     "text": [
      "plz enter your strings :ayman\n",
      "plz enter your char :a\n",
      "[0, 3]\n"
     ]
    }
   ],
   "source": [
    "#lab2 ITI\n",
    "def Replace (stringIN , character) :\n",
    "        listindex = []\n",
    "        for ch in range(len(stringIN)) :\n",
    "            if stringIN[ch] == character:\n",
    "                listindex.append(ch) \n",
    "            else :\n",
    "                pass\n",
    "        print(listindex)\n",
    "\n",
    "stringIN = input('plz enter your strings :')\n",
    "charIN = input('plz enter your char :')    \n",
    "Replace(stringIN , charIN)"
   ]
  },
  {
   "cell_type": "code",
   "execution_count": 100,
   "metadata": {},
   "outputs": [],
   "source": [
    "#lab LongestWord of sentece \n",
    "def LongestWord(sen): \n",
    "    table = sen.maketrans(dict.fromkeys('!@#$%^&*(){}|\":?><|\\~'))\n",
    "    sen = sen.translate(table)\n",
    "    sen =sen.split()         #sen now is list\n",
    "    print(sen)\n",
    "    ##########################################\n",
    "    len_w={}\n",
    "    for word in sen :\n",
    "        len_w[len(word)]=word\n",
    "    print(len_w)\n",
    "    #sen = len_w.get(s)      Or\n",
    "    sen=len_w[max(len_w.keys())]\n",
    "    ###########################################\n",
    "    ##instead of this code can use max function of list take [list,key=len]##\n",
    "    return(sen)"
   ]
  },
  {
   "cell_type": "code",
   "execution_count": 101,
   "metadata": {},
   "outputs": [
    {
     "name": "stdout",
     "output_type": "stream",
     "text": [
      "['ahmd', 'mohamaed', 'Ayman', 'esmael']\n",
      "{4: 'ahmd', 8: 'mohamaed', 5: 'Ayman', 6: 'esmael'}\n"
     ]
    },
    {
     "data": {
      "text/plain": [
       "'mohamaed'"
      ]
     },
     "execution_count": 101,
     "metadata": {},
     "output_type": "execute_result"
    }
   ],
   "source": [
    "LongestWord(\"ahm%#d moha@maed A*&^yman esmael\")"
   ]
  },
  {
   "cell_type": "code",
   "execution_count": 91,
   "metadata": {},
   "outputs": [
    {
     "data": {
      "text/plain": [
       "'abdooooooooo'"
      ]
     },
     "execution_count": 91,
     "metadata": {},
     "output_type": "execute_result"
    }
   ],
   "source": [
    "#Example of max function\n",
    "list1=['ahmed','mohamed','abdooooooooo']\n",
    "max(list1,key=len)"
   ]
  },
  {
   "cell_type": "code",
   "execution_count": 2,
   "metadata": {},
   "outputs": [
    {
     "data": {
      "text/plain": [
       "30"
      ]
     },
     "execution_count": 2,
     "metadata": {},
     "output_type": "execute_result"
    }
   ],
   "source": [
    "#write function Max of 3 numbers\n",
    "def maxOfTwonum(num1,num2):\n",
    "    if num1 > num2:\n",
    "        return(num1)\n",
    "    else :\n",
    "        return(num2)\n",
    "\n",
    "def maxofThree(num1,num2,num3):        \n",
    "    result = maxOfTwonum(num1,num2)\n",
    "    fin =maxOfTwonum(result,num3)\n",
    "    return(fin)\n",
    "\n",
    "maxofThree(10,20,30)"
   ]
  },
  {
   "cell_type": "code",
   "execution_count": 6,
   "metadata": {},
   "outputs": [
    {
     "data": {
      "text/plain": [
       "[1, 12, 4, 3, 2]"
      ]
     },
     "execution_count": 6,
     "metadata": {},
     "output_type": "execute_result"
    }
   ],
   "source": [
    "#write function to return uniqe elements\n",
    "def Unique_fun(ununique_list):\n",
    "    unique=[]\n",
    "    for element in ununique_list :\n",
    "        if element not in unique: \n",
    "            unique.append(element)\n",
    "    return(unique)\n",
    "\n",
    "Unique_fun([1,12,4,4,1,1,3,2,3])"
   ]
  },
  {
   "cell_type": "code",
   "execution_count": null,
   "metadata": {},
   "outputs": [],
   "source": []
  }
 ],
 "metadata": {
  "kernelspec": {
   "display_name": "Python 3",
   "language": "python",
   "name": "python3"
  },
  "language_info": {
   "codemirror_mode": {
    "name": "ipython",
    "version": 3
   },
   "file_extension": ".py",
   "mimetype": "text/x-python",
   "name": "python",
   "nbconvert_exporter": "python",
   "pygments_lexer": "ipython3",
   "version": "3.6.4"
  }
 },
 "nbformat": 4,
 "nbformat_minor": 2
}

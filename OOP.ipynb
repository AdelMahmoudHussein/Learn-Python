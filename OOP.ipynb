{
 "cells": [
  {
   "cell_type": "code",
   "execution_count": null,
   "metadata": {},
   "outputs": [],
   "source": [
    "\"\"\"\"\n",
    "+OOP\n",
    "-proctural               -object oriented\n",
    " focus in function        focus in objects (every object have propeitys And methods)\n",
    "\n",
    "+Why OOP\n",
    "-easier to use\n",
    "-easier to understand\n",
    "-easier to maintain and extand\n",
    "\n",
    "+understand OOP part 1\n",
    "-every thing is object\n",
    "-python class Syntax\n",
    "-methods & attributes\n",
    "-class atribute & instance atrribute\n",
    "-what is self\n",
    "-constarctor\n",
    "\n",
    "+ OOP have three pillars part 2\n",
    "-Encapsulation (hidden Data)\n",
    "-inheritance   (inherit from parent)\n",
    "-Polymorphism  (multiple of shapes)\n",
    "\"\"\"\""
   ]
  },
  {
   "cell_type": "code",
   "execution_count": 7,
   "metadata": {},
   "outputs": [
    {
     "name": "stdout",
     "output_type": "stream",
     "text": [
      "Help on int object:\n",
      "\n",
      "class int(object)\n",
      " |  int(x=0) -> integer\n",
      " |  int(x, base=10) -> integer\n",
      " |  \n",
      " |  Convert a number or string to an integer, or return 0 if no arguments\n",
      " |  are given.  If x is a number, return x.__int__().  For floating point\n",
      " |  numbers, this truncates towards zero.\n",
      " |  \n",
      " |  If x is not a number or if base is given, then x must be a string,\n",
      " |  bytes, or bytearray instance representing an integer literal in the\n",
      " |  given base.  The literal can be preceded by '+' or '-' and be surrounded\n",
      " |  by whitespace.  The base defaults to 10.  Valid bases are 0 and 2-36.\n",
      " |  Base 0 means to interpret the base from the string as an integer literal.\n",
      " |  >>> int('0b100', base=0)\n",
      " |  4\n",
      " |  \n",
      " |  Methods defined here:\n",
      " |  \n",
      " |  __abs__(self, /)\n",
      " |      abs(self)\n",
      " |  \n",
      " |  __add__(self, value, /)\n",
      " |      Return self+value.\n",
      " |  \n",
      " |  __and__(self, value, /)\n",
      " |      Return self&value.\n",
      " |  \n",
      " |  __bool__(self, /)\n",
      " |      self != 0\n",
      " |  \n",
      " |  __ceil__(...)\n",
      " |      Ceiling of an Integral returns itself.\n",
      " |  \n",
      " |  __divmod__(self, value, /)\n",
      " |      Return divmod(self, value).\n",
      " |  \n",
      " |  __eq__(self, value, /)\n",
      " |      Return self==value.\n",
      " |  \n",
      " |  __float__(self, /)\n",
      " |      float(self)\n",
      " |  \n",
      " |  __floor__(...)\n",
      " |      Flooring an Integral returns itself.\n",
      " |  \n",
      " |  __floordiv__(self, value, /)\n",
      " |      Return self//value.\n",
      " |  \n",
      " |  __format__(...)\n",
      " |      default object formatter\n",
      " |  \n",
      " |  __ge__(self, value, /)\n",
      " |      Return self>=value.\n",
      " |  \n",
      " |  __getattribute__(self, name, /)\n",
      " |      Return getattr(self, name).\n",
      " |  \n",
      " |  __getnewargs__(...)\n",
      " |  \n",
      " |  __gt__(self, value, /)\n",
      " |      Return self>value.\n",
      " |  \n",
      " |  __hash__(self, /)\n",
      " |      Return hash(self).\n",
      " |  \n",
      " |  __index__(self, /)\n",
      " |      Return self converted to an integer, if self is suitable for use as an index into a list.\n",
      " |  \n",
      " |  __int__(self, /)\n",
      " |      int(self)\n",
      " |  \n",
      " |  __invert__(self, /)\n",
      " |      ~self\n",
      " |  \n",
      " |  __le__(self, value, /)\n",
      " |      Return self<=value.\n",
      " |  \n",
      " |  __lshift__(self, value, /)\n",
      " |      Return self<<value.\n",
      " |  \n",
      " |  __lt__(self, value, /)\n",
      " |      Return self<value.\n",
      " |  \n",
      " |  __mod__(self, value, /)\n",
      " |      Return self%value.\n",
      " |  \n",
      " |  __mul__(self, value, /)\n",
      " |      Return self*value.\n",
      " |  \n",
      " |  __ne__(self, value, /)\n",
      " |      Return self!=value.\n",
      " |  \n",
      " |  __neg__(self, /)\n",
      " |      -self\n",
      " |  \n",
      " |  __new__(*args, **kwargs) from builtins.type\n",
      " |      Create and return a new object.  See help(type) for accurate signature.\n",
      " |  \n",
      " |  __or__(self, value, /)\n",
      " |      Return self|value.\n",
      " |  \n",
      " |  __pos__(self, /)\n",
      " |      +self\n",
      " |  \n",
      " |  __pow__(self, value, mod=None, /)\n",
      " |      Return pow(self, value, mod).\n",
      " |  \n",
      " |  __radd__(self, value, /)\n",
      " |      Return value+self.\n",
      " |  \n",
      " |  __rand__(self, value, /)\n",
      " |      Return value&self.\n",
      " |  \n",
      " |  __rdivmod__(self, value, /)\n",
      " |      Return divmod(value, self).\n",
      " |  \n",
      " |  __repr__(self, /)\n",
      " |      Return repr(self).\n",
      " |  \n",
      " |  __rfloordiv__(self, value, /)\n",
      " |      Return value//self.\n",
      " |  \n",
      " |  __rlshift__(self, value, /)\n",
      " |      Return value<<self.\n",
      " |  \n",
      " |  __rmod__(self, value, /)\n",
      " |      Return value%self.\n",
      " |  \n",
      " |  __rmul__(self, value, /)\n",
      " |      Return value*self.\n",
      " |  \n",
      " |  __ror__(self, value, /)\n",
      " |      Return value|self.\n",
      " |  \n",
      " |  __round__(...)\n",
      " |      Rounding an Integral returns itself.\n",
      " |      Rounding with an ndigits argument also returns an integer.\n",
      " |  \n",
      " |  __rpow__(self, value, mod=None, /)\n",
      " |      Return pow(value, self, mod).\n",
      " |  \n",
      " |  __rrshift__(self, value, /)\n",
      " |      Return value>>self.\n",
      " |  \n",
      " |  __rshift__(self, value, /)\n",
      " |      Return self>>value.\n",
      " |  \n",
      " |  __rsub__(self, value, /)\n",
      " |      Return value-self.\n",
      " |  \n",
      " |  __rtruediv__(self, value, /)\n",
      " |      Return value/self.\n",
      " |  \n",
      " |  __rxor__(self, value, /)\n",
      " |      Return value^self.\n",
      " |  \n",
      " |  __sizeof__(...)\n",
      " |      Returns size in memory, in bytes\n",
      " |  \n",
      " |  __str__(self, /)\n",
      " |      Return str(self).\n",
      " |  \n",
      " |  __sub__(self, value, /)\n",
      " |      Return self-value.\n",
      " |  \n",
      " |  __truediv__(self, value, /)\n",
      " |      Return self/value.\n",
      " |  \n",
      " |  __trunc__(...)\n",
      " |      Truncating an Integral returns itself.\n",
      " |  \n",
      " |  __xor__(self, value, /)\n",
      " |      Return self^value.\n",
      " |  \n",
      " |  bit_length(...)\n",
      " |      int.bit_length() -> int\n",
      " |      \n",
      " |      Number of bits necessary to represent self in binary.\n",
      " |      >>> bin(37)\n",
      " |      '0b100101'\n",
      " |      >>> (37).bit_length()\n",
      " |      6\n",
      " |  \n",
      " |  conjugate(...)\n",
      " |      Returns self, the complex conjugate of any int.\n",
      " |  \n",
      " |  from_bytes(...) from builtins.type\n",
      " |      int.from_bytes(bytes, byteorder, *, signed=False) -> int\n",
      " |      \n",
      " |      Return the integer represented by the given array of bytes.\n",
      " |      \n",
      " |      The bytes argument must be a bytes-like object (e.g. bytes or bytearray).\n",
      " |      \n",
      " |      The byteorder argument determines the byte order used to represent the\n",
      " |      integer.  If byteorder is 'big', the most significant byte is at the\n",
      " |      beginning of the byte array.  If byteorder is 'little', the most\n",
      " |      significant byte is at the end of the byte array.  To request the native\n",
      " |      byte order of the host system, use `sys.byteorder' as the byte order value.\n",
      " |      \n",
      " |      The signed keyword-only argument indicates whether two's complement is\n",
      " |      used to represent the integer.\n",
      " |  \n",
      " |  to_bytes(...)\n",
      " |      int.to_bytes(length, byteorder, *, signed=False) -> bytes\n",
      " |      \n",
      " |      Return an array of bytes representing an integer.\n",
      " |      \n",
      " |      The integer is represented using length bytes.  An OverflowError is\n",
      " |      raised if the integer is not representable with the given number of\n",
      " |      bytes.\n",
      " |      \n",
      " |      The byteorder argument determines the byte order used to represent the\n",
      " |      integer.  If byteorder is 'big', the most significant byte is at the\n",
      " |      beginning of the byte array.  If byteorder is 'little', the most\n",
      " |      significant byte is at the end of the byte array.  To request the native\n",
      " |      byte order of the host system, use `sys.byteorder' as the byte order value.\n",
      " |      \n",
      " |      The signed keyword-only argument determines whether two's complement is\n",
      " |      used to represent the integer.  If signed is False and a negative integer\n",
      " |      is given, an OverflowError is raised.\n",
      " |  \n",
      " |  ----------------------------------------------------------------------\n",
      " |  Data descriptors defined here:\n",
      " |  \n",
      " |  denominator\n",
      " |      the denominator of a rational number in lowest terms\n",
      " |  \n",
      " |  imag\n",
      " |      the imaginary part of a complex number\n",
      " |  \n",
      " |  numerator\n",
      " |      the numerator of a rational number in lowest terms\n",
      " |  \n",
      " |  real\n",
      " |      the real part of a complex number\n",
      "\n"
     ]
    }
   ],
   "source": [
    "#every thing is object\n",
    "#----------------------\n",
    "x = 5\n",
    "type(x)\n",
    "help(x)\n",
    "#y=str('mahmoud')\n",
    "#print (x)"
   ]
  },
  {
   "cell_type": "code",
   "execution_count": null,
   "metadata": {},
   "outputs": [],
   "source": [
    "#python class Syntax\n",
    "#---------------------\n",
    "class Car(object):\n",
    "    make = 'Ford'\n",
    "    model = 'Pinto'\n",
    "    year = '1971'\n",
    "    mileage = 253812\n",
    "\n",
    "    engine = '4 cylinder'\n",
    "    transmission = 'manual'\n",
    "    horsepower = 100\n",
    "\n",
    "    color = 'orange'\n",
    "\n",
    "    def move_forward(self, speed):\n",
    "        print(\"Moving forward at %s\" % speed)\n",
    "\n",
    "\n",
    "    def move_backward(self, speed):\n",
    "        print(\"Moving backward at %s\" % speed)"
   ]
  },
  {
   "cell_type": "code",
   "execution_count": 18,
   "metadata": {},
   "outputs": [],
   "source": [
    "#class variables + instance variables\n",
    "#------------------------------------\n",
    "#in objects have two type of variables (class variables + instance variables)\n",
    "class Dog :\n",
    "    #this is class variable\n",
    "    numOfDogs = 0\n",
    "    #self in constructor ref to the objects\n",
    "    def __init__(self):\n",
    "        #in class varaible instead of global keyword use Dog.\n",
    "        Dog.numOfDogs += 1\n",
    "        #thi is instance varible \n",
    "        self.name  = None\n",
    "        self.color = None\n",
    "        self.age   = 0"
   ]
  },
  {
   "cell_type": "code",
   "execution_count": 19,
   "metadata": {},
   "outputs": [
    {
     "name": "stdout",
     "output_type": "stream",
     "text": [
      "num of dogs : 1\n",
      "num of dogs : 1\n",
      "name of dog : None\n",
      "color of dog : None\n"
     ]
    }
   ],
   "source": [
    "rexx = Dog()\n",
    "#class variables called by class Or instance (Dog or rexx)\n",
    "print(\"num of dogs :\",rexx.numOfDogs)\n",
    "print(\"num of dogs :\",Dog.numOfDogs)\n",
    "#instance variables called by instance (objects)\n",
    "print(\"name of dog :\",rexx.name)\n",
    "print(\"color of dog :\",rexx.color)"
   ]
  },
  {
   "cell_type": "code",
   "execution_count": 20,
   "metadata": {},
   "outputs": [],
   "source": [
    "#if you want pass Required parameters to constructor function\n",
    "class Dog :\n",
    "    numOfDogs = 0\n",
    "    def __init__(self,name,color,age):\n",
    "        Dog.numOfDogs += 1\n",
    "        self.name  = name\n",
    "        self.color = color\n",
    "        self.age   = age"
   ]
  },
  {
   "cell_type": "code",
   "execution_count": 21,
   "metadata": {},
   "outputs": [
    {
     "name": "stdout",
     "output_type": "stream",
     "text": [
      "['rexx', 'axx'] ['whte'] [2, 3]\n"
     ]
    }
   ],
   "source": [
    "axx = Dog(name=['rexx','axx'], color=['whte'], age=[2,3] )\n",
    "print(axx.name,axx.color,axx.age)"
   ]
  },
  {
   "cell_type": "code",
   "execution_count": 22,
   "metadata": {},
   "outputs": [],
   "source": [
    "#if you want pass optional parameters to constructor function\n",
    "class Dog :\n",
    "    numOfDogs = 0\n",
    "    def __init__(self,name=['rexx'],color=['white'],age=['1']):\n",
    "        Dog.numOfDogs += 1\n",
    "        self.name  = name\n",
    "        self.color = color\n",
    "        self.age   = age"
   ]
  },
  {
   "cell_type": "code",
   "execution_count": 23,
   "metadata": {},
   "outputs": [
    {
     "name": "stdout",
     "output_type": "stream",
     "text": [
      "['rexx'] ['white'] ['1']\n",
      "['rexx', 'axx'] ['whte'] [2, 3]\n"
     ]
    }
   ],
   "source": [
    "rexx = Dog()\n",
    "print(rexx.name,rexx.color,rexx.age)\n",
    "axx = Dog(name=['rexx','axx'], color=['whte'], age=[2,3] )\n",
    "print(axx.name,axx.color,axx.age)"
   ]
  },
  {
   "cell_type": "code",
   "execution_count": 11,
   "metadata": {},
   "outputs": [
    {
     "ename": "TypeError",
     "evalue": "test() takes 0 positional arguments but 1 was given",
     "output_type": "error",
     "traceback": [
      "\u001b[1;31m---------------------------------------------------------------------------\u001b[0m",
      "\u001b[1;31mTypeError\u001b[0m                                 Traceback (most recent call last)",
      "\u001b[1;32m<ipython-input-11-9b3b0c0b6363>\u001b[0m in \u001b[0;36m<module>\u001b[1;34m()\u001b[0m\n\u001b[0;32m     13\u001b[0m \u001b[1;33m\u001b[0m\u001b[0m\n\u001b[0;32m     14\u001b[0m \u001b[0ms1\u001b[0m \u001b[1;33m=\u001b[0m \u001b[0mmyclass\u001b[0m\u001b[1;33m(\u001b[0m\u001b[1;33m)\u001b[0m\u001b[1;33m\u001b[0m\u001b[0m\n\u001b[1;32m---> 15\u001b[1;33m \u001b[0ms1\u001b[0m\u001b[1;33m.\u001b[0m\u001b[0mtest\u001b[0m\u001b[1;33m(\u001b[0m\u001b[1;33m)\u001b[0m\u001b[1;33m\u001b[0m\u001b[0m\n\u001b[0m",
      "\u001b[1;31mTypeError\u001b[0m: test() takes 0 positional arguments but 1 was given"
     ]
    }
   ],
   "source": [
    "#what is self Like (this) in java and c#\n",
    "#--------------\n",
    "#\"self\" is the biggest quirk in the way that Python handles Object Oriented Programming. \n",
    "#In most languages, classes and objects are just aware of their variables in their methods.\n",
    "#Python needs to be told to remember them.\n",
    "#When you pass \"self\" to a method, you are\n",
    "#essentially passing that object to its method to remind it of all of the variables and other methods in that object. \n",
    "\n",
    "#code without self\n",
    "class myclass:\n",
    "    def test():\n",
    "        print('welcome')\n",
    "        \n",
    "s1 = myclass()\n",
    "s1.test()"
   ]
  },
  {
   "cell_type": "code",
   "execution_count": 10,
   "metadata": {},
   "outputs": [
    {
     "name": "stdout",
     "output_type": "stream",
     "text": [
      "welcome\n",
      "<__main__.myclass object at 0x0000005EDB01A780>\n",
      "----------\n",
      "<__main__.myclass object at 0x0000005EDB01A780>\n"
     ]
    }
   ],
   "source": [
    "#code with self\n",
    "class myclass:\n",
    "    def test(self):\n",
    "        print('welcome')\n",
    "        print(self)\n",
    "        \n",
    "s1 = myclass()\n",
    "s1.test()\n",
    "print('----------')\n",
    "print(s1)\n",
    "#so self is placeholder \n",
    "#so self = object  "
   ]
  },
  {
   "cell_type": "code",
   "execution_count": 15,
   "metadata": {},
   "outputs": [
    {
     "name": "stdout",
     "output_type": "stream",
     "text": [
      "red hind 2005\n"
     ]
    }
   ],
   "source": [
    "#Creating A Constructor\n",
    "#------------------------\n",
    "#Changing variables after an object is created is clunky and inefficient. Not only do you waste time, but it bloats up your code too. This is especially true if you are creating multiple instances of the same class and altering each one. \n",
    "#There is a concept in Object Oriented Programming called a constructor.\n",
    "#Constructors are special methods that allow an object to take arguments when it is created and automatically carry out actions. They are usually used for assigning variables at the time an object is instantiated. \n",
    "class car:\n",
    "    def __init__(self, make, year, color):\n",
    "        self.make = make\n",
    "        self.year = year\n",
    "        self.color = color\n",
    "        print(self.color,self.make,self.year)\n",
    "mycar = car('hind','2005','red')"
   ]
  },
  {
   "cell_type": "code",
   "execution_count": 2,
   "metadata": {},
   "outputs": [
    {
     "name": "stdout",
     "output_type": "stream",
     "text": [
      "orange Ford 1971\n",
      "green chine 2006\n"
     ]
    }
   ],
   "source": [
    "#What if you still want a default template, \n",
    "#so you don't have to pass in every argument? \n",
    "#You can absolutely do that too. You just have to set every parameter in your constructor equal to the value that you want to be its default. \n",
    "class car:\n",
    "    def __init__(self, make = 'Ford', year = '1971', color = 'orange'):\n",
    "        self.make = make\n",
    "        self.year = year\n",
    "        self.color = color\n",
    "        print(self.color,self.make,self.year)\n",
    "#Default Car\n",
    "mycar = car()\n",
    "#another car\n",
    "mycar2 = car('chine','2006','green')"
   ]
  },
  {
   "cell_type": "code",
   "execution_count": 18,
   "metadata": {},
   "outputs": [
    {
     "name": "stdout",
     "output_type": "stream",
     "text": [
      "welcome ayman to school\n",
      "['math', 'arabic', 'eng']\n",
      "[50, 60, 70]\n",
      "60.0\n"
     ]
    }
   ],
   "source": [
    "#examples for Part 1\n",
    "class student :\n",
    "    def __init__(self , name):\n",
    "        self.name = name\n",
    "        self.marks = []\n",
    "        self.subjects = []\n",
    "        print('welcome {} to school'.format(name))\n",
    "    def add_marks(self , subject , mark):\n",
    "        self.marks.append(mark)\n",
    "        self.subjects.append(subject)\n",
    "    def avg(self):\n",
    "        result=sum(self.marks)/len(self.marks)\n",
    "        return result\n",
    "    \n",
    "student1 = student('ayman')\n",
    "student1.add_marks('math',50)\n",
    "student1.add_marks('arabic',60)\n",
    "student1.add_marks('eng',70)\n",
    "print(student1.subjects)\n",
    "print(student1.marks)\n",
    "print(student1.avg())"
   ]
  },
  {
   "cell_type": "code",
   "execution_count": 25,
   "metadata": {},
   "outputs": [
    {
     "name": "stdout",
     "output_type": "stream",
     "text": [
      "34\n",
      "12\n"
     ]
    }
   ],
   "source": [
    "class calculator:\n",
    "    def __init__(self , num1 , num2):\n",
    "        self.num1 = num1\n",
    "        self.num2 = num2\n",
    "    def addation(self):\n",
    "        return (self.num1 + self.num2)\n",
    "    def subtract(self):\n",
    "        if self.num1 > self.num2 :\n",
    "            return (self.num1 - self.num2)\n",
    "        else:\n",
    "            return (self.num2 - self.num1)\n",
    "calc = calculator(11 ,23)\n",
    "print(calc.addation())\n",
    "print(calc.subtract())\n",
    "    "
   ]
  },
  {
   "cell_type": "code",
   "execution_count": 26,
   "metadata": {},
   "outputs": [
    {
     "ename": "AttributeError",
     "evalue": "'Car' object has no attribute '__model'",
     "output_type": "error",
     "traceback": [
      "\u001b[1;31m---------------------------------------------------------------------------\u001b[0m",
      "\u001b[1;31mAttributeError\u001b[0m                            Traceback (most recent call last)",
      "\u001b[1;32m<ipython-input-26-6546e9bfe2a4>\u001b[0m in \u001b[0;36m<module>\u001b[1;34m()\u001b[0m\n\u001b[0;32m     33\u001b[0m \u001b[0mmycar\u001b[0m \u001b[1;33m=\u001b[0m \u001b[0mCar\u001b[0m\u001b[1;33m(\u001b[0m\u001b[1;33m)\u001b[0m\u001b[1;33m\u001b[0m\u001b[0m\n\u001b[0;32m     34\u001b[0m \u001b[1;33m\u001b[0m\u001b[0m\n\u001b[1;32m---> 35\u001b[1;33m \u001b[0mprint\u001b[0m\u001b[1;33m(\u001b[0m\u001b[0mmycar\u001b[0m\u001b[1;33m.\u001b[0m\u001b[0m__model\u001b[0m\u001b[1;33m)\u001b[0m\u001b[1;33m\u001b[0m\u001b[0m\n\u001b[0m",
      "\u001b[1;31mAttributeError\u001b[0m: 'Car' object has no attribute '__model'"
     ]
    }
   ],
   "source": [
    "#Python Encapsulation \n",
    "#It allows programmers better control of how data flows in their programs, and it protects that data. Encapsulation also makes objects into more self-sufficient and independently functioning pieces.\n",
    "#Before you can take advantage of encapsulation, you have to understand how Python restricts access to the data stored in variables and methods. \n",
    "#ariables and methods can be public, private, or protected. Those designations are made by the number of underscores before the variable or method. \n",
    "#Access Modifiers (public, private, or protected)\n",
    "################\n",
    "#1# Public\n",
    "################\n",
    "#Public variables and methods can be freely modified and run from anywhere, either inside or outside of the class.\n",
    "#To create a public variable or method, don't use any underscores. \n",
    "##############\n",
    "#2# Private\n",
    "##############\n",
    "#The private designation only allows a variable or method to be accessed from within its own class or object. \n",
    "#You cannot modify the value of a private variable from outside of a class. \n",
    "#Private variables and methods are preceded by two underscores\n",
    "# __make = 'Dodge'\n",
    "\n",
    "class Car(object):\n",
    "\n",
    "    def __init__(self, make = 'Ford', model = 'Pinto', year = '1971', mileage = '253812',      color = 'orange'):\n",
    "        self.__make = make\n",
    "        self.__model = model\n",
    "        self.__year = year              #private attribute\n",
    "                                        #only allows a variable or method to be accessed from within its own class\n",
    "        self.__mileage = mileage        #cannt get and set  so use Encapsulation (getter setter methods)\n",
    "        self.__color = color\n",
    "\n",
    "    def move_forward(self, speed):    \n",
    "        print(\"Your %s is moving forward at %s\" % (self.__model, speed))\n",
    "\n",
    "    def move_backward(self, speed):\n",
    "        print(\"Moving backward at %s\" % speed)\n",
    "\n",
    "mycar = Car()\n",
    "\n",
    "print(mycar.__model)                        #cannot get private attribute directly\n",
    "#You will receive an error message stating that the variable doesn't exist.\n"
   ]
  },
  {
   "cell_type": "code",
   "execution_count": 35,
   "metadata": {},
   "outputs": [
    {
     "name": "stdout",
     "output_type": "stream",
     "text": [
      "Mustang\n"
     ]
    }
   ],
   "source": [
    "mycar.__model = 'Mustang'                 #cannot set privte attribute directly but can change value in instance not class \n",
    "print(mycar.__model)"
   ]
  },
  {
   "cell_type": "code",
   "execution_count": 36,
   "metadata": {},
   "outputs": [
    {
     "name": "stdout",
     "output_type": "stream",
     "text": [
      "Your Pinto is moving forward at 300\n"
     ]
    }
   ],
   "source": [
    "mycar.move_forward(300)                     #can get through public method (called get method in Encapsulation)\n",
    "#Everything works fine. That's because the variable is being accessed by a method within the class, not externally. "
   ]
  },
  {
   "cell_type": "code",
   "execution_count": 34,
   "metadata": {},
   "outputs": [
    {
     "name": "stdout",
     "output_type": "stream",
     "text": [
      "Pinto\n",
      "aaaaaaaaaa\n"
     ]
    },
    {
     "ename": "AttributeError",
     "evalue": "'CAR' object has no attribute '__model'",
     "output_type": "error",
     "traceback": [
      "\u001b[1;31m---------------------------------------------------------------------------\u001b[0m",
      "\u001b[1;31mAttributeError\u001b[0m                            Traceback (most recent call last)",
      "\u001b[1;32m<ipython-input-34-a032949acb69>\u001b[0m in \u001b[0;36m<module>\u001b[1;34m()\u001b[0m\n\u001b[0;32m     14\u001b[0m \u001b[0mmy_car\u001b[0m\u001b[1;33m.\u001b[0m\u001b[0mset_model\u001b[0m\u001b[1;33m(\u001b[0m\u001b[1;34m'aaaaaaaaaa'\u001b[0m\u001b[1;33m)\u001b[0m\u001b[1;33m\u001b[0m\u001b[0m\n\u001b[0;32m     15\u001b[0m \u001b[0mprint\u001b[0m\u001b[1;33m(\u001b[0m\u001b[0mmy_car\u001b[0m\u001b[1;33m.\u001b[0m\u001b[0mget_model\u001b[0m\u001b[1;33m(\u001b[0m\u001b[1;33m)\u001b[0m\u001b[1;33m)\u001b[0m\u001b[1;33m\u001b[0m\u001b[0m\n\u001b[1;32m---> 16\u001b[1;33m \u001b[0mprint\u001b[0m\u001b[1;33m(\u001b[0m\u001b[0mmy_car\u001b[0m\u001b[1;33m.\u001b[0m\u001b[0m__model\u001b[0m\u001b[1;33m)\u001b[0m\u001b[1;33m\u001b[0m\u001b[0m\n\u001b[0m",
      "\u001b[1;31mAttributeError\u001b[0m: 'CAR' object has no attribute '__model'"
     ]
    }
   ],
   "source": [
    "#Python Encapsulation (Deals with private attribute getter method and getter method)\n",
    "class CAR(object):\n",
    "\n",
    "    def __init__(self, model = 'Pinto'):\n",
    "        self.__model = model \n",
    "        \n",
    "    def set_model(self, new_model):\n",
    "\t    self.__model = new_model\n",
    "\n",
    "    def get_model(self):\n",
    "\t    return self.__model\n",
    "\n",
    "my_car = CAR()\n",
    "print(my_car.get_model())\n",
    "my_car.set_model('aaaaaaaaaa')\n",
    "print(my_car.get_model())\n",
    "print(my_car.__model)"
   ]
  },
  {
   "cell_type": "code",
   "execution_count": 37,
   "metadata": {},
   "outputs": [],
   "source": [
    "#3#protected\n",
    "#Protected variables and methods are very similar to private ones.\n",
    "#You probably won't use protected variables or methods very often, but it's still worth knowing what they are.\n",
    "#A variable that is protected can only be accessed by its own class and any classes derived from it. That is more a topic for later, but just be aware that if you are using a class as the basis of another one, \n",
    "#protected variables may be a good option. Protected variables begin with a single underscore. "
   ]
  },
  {
   "cell_type": "code",
   "execution_count": 40,
   "metadata": {},
   "outputs": [
    {
     "name": "stdout",
     "output_type": "stream",
     "text": [
      "34\n",
      "12\n",
      "895430243255237372246531\n"
     ]
    }
   ],
   "source": [
    "#Inheritance\n",
    "#Inheritance is yet another key concept in Object Oriented Programming, and it plays a vital role in building classes. It allows a class to be based off on an existing one. \n",
    "#In short, inheritance is a nice way of categorizing classes and making sure that you don't needlessly repeat yourself. \n",
    "#inheritance exists in the real world too.\n",
    "#You can start out with a basic \"Car\" class that has all of the properties that every car shares. These would all be very general. \n",
    "# child =derived=subclass\n",
    "# base =parent=super \n",
    "class calculator:\n",
    "    def __init__(self , num1 , num2):\n",
    "        self.num1 = num1\n",
    "        self.num2 = num2\n",
    "    def addation(self):\n",
    "        return (self.num1 + self.num2)\n",
    "    def subtract(self):\n",
    "        if self.num1 > self.num2 :\n",
    "            return (self.num1 - self.num2)\n",
    "        else:\n",
    "            return (self.num2 - self.num1)\n",
    "\n",
    "class sentafic(calculator):        #Inheritance\n",
    "    #pass\n",
    "    def power(self):\n",
    "        return pow(self.num1 , self.num2)\n",
    "\n",
    "calc = sentafic(11 ,23)             #inherit constractor of calculator\n",
    "print(calc.addation())\n",
    "print(calc.subtract())\n",
    "print(calc.power())"
   ]
  },
  {
   "cell_type": "code",
   "execution_count": 41,
   "metadata": {},
   "outputs": [
    {
     "name": "stdout",
     "output_type": "stream",
     "text": [
      "Your Mustang is moving forward at 25mph\n",
      "You Win!\n"
     ]
    }
   ],
   "source": [
    "class Car(object):\n",
    "    def __init__(self, make = 'Ford', model = 'Pinto', year = '1971', mileage = 253812, color = 'orange'):\n",
    "        self.__make = make\n",
    "        self.__model = model\n",
    "        self.__year = year           #private attribute\n",
    "        self.__mileage = mileage\n",
    "        self.__color = color\n",
    "\n",
    "    def move_forward(self, speed):\n",
    "        print(\"Your %s is moving forward at %s\" % (self.__model, speed))\n",
    "\n",
    "    def move_backward(self, speed):\n",
    "        print(\"Moving backward at %s\" % speed)\n",
    "\n",
    "\n",
    "class MuscleCar(Car):      #inheritance\n",
    "    __hp = 300 \n",
    "                            #private attribute           \n",
    "    def set_hp(self, hp):   #Encapsulation (handle private attribute)\n",
    "        self.__hp = hp\n",
    "\n",
    "    def get_hp(self):\n",
    "        return self.__hp\n",
    "\n",
    "    def drag_race(self, opponent):\n",
    "        if (self.__hp > opponent.get_hp()):\n",
    "            return \"You Win!\"\n",
    "        else:\n",
    "            return \"You Lose!\"\n",
    "\n",
    "mynewcar = MuscleCar('Ford', 'Mustang', '2016', 3000, 'red')  #inherit constractor of car\n",
    "mynewcar.set_hp(687)\n",
    "opponent = MuscleCar('Ford', 'Mustang', '2014', 6400, 'green')\n",
    "opponent.set_hp(465)\n",
    "mynewcar.move_forward('25mph')\n",
    "print(mynewcar.drag_race(opponent))"
   ]
  },
  {
   "cell_type": "code",
   "execution_count": 47,
   "metadata": {},
   "outputs": [
    {
     "name": "stdout",
     "output_type": "stream",
     "text": [
      "5\n",
      "6\n"
     ]
    }
   ],
   "source": [
    "#Overriding (Class attribute different from polymorphism)\n",
    "#Just because a class inherits from another one, you're not stuck with all of the functionality of the parent class. You can overwrite parts of the parent class within child classes. The changes applied to the child class will not apply to the original parent class, so you don't have to worry about messing up any other classes. \n",
    "#Python method overriding occurs simply defining in the child class a method with the same name of a method in the parent class. When you define a method in the object you make this latter able to satisfy that method call, so the implementations of its ancestors do not come in play.\n",
    "class Parent(object):\n",
    "    def __init__(self):\n",
    "        self.value = 5\n",
    "\n",
    "    def get_value(self):\n",
    "        return self.value\n",
    "\n",
    "class Child(Parent):\n",
    "    def get_value(self):\n",
    "        return self.value + 1\n",
    "    \n",
    "P = Parent()\n",
    "print(P.get_value())\n",
    "\n",
    "c = Child()\n",
    "print(c.get_value())"
   ]
  },
  {
   "cell_type": "code",
   "execution_count": 50,
   "metadata": {},
   "outputs": [
    {
     "data": {
      "text/plain": [
       "mappingproxy({'__dict__': <attribute '__dict__' of 'Parent' objects>,\n",
       "              '__doc__': None,\n",
       "              '__init__': <function __main__.Parent.__init__>,\n",
       "              '__module__': '__main__',\n",
       "              '__weakref__': <attribute '__weakref__' of 'Parent' objects>,\n",
       "              'get_value': <function __main__.Parent.get_value>})"
      ]
     },
     "execution_count": 50,
     "metadata": {},
     "output_type": "execute_result"
    }
   ],
   "source": [
    "#to know methods in class\n",
    "Parent.__dict__\n",
    "#Child.__dict__"
   ]
  },
  {
   "cell_type": "code",
   "execution_count": 51,
   "metadata": {},
   "outputs": [
    {
     "ename": "TabError",
     "evalue": "inconsistent use of tabs and spaces in indentation (<ipython-input-51-0db5f53e4e43>, line 25)",
     "output_type": "error",
     "traceback": [
      "\u001b[1;36m  File \u001b[1;32m\"<ipython-input-51-0db5f53e4e43>\"\u001b[1;36m, line \u001b[1;32m25\u001b[0m\n\u001b[1;33m    self.__hp = hp\u001b[0m\n\u001b[1;37m                  ^\u001b[0m\n\u001b[1;31mTabError\u001b[0m\u001b[1;31m:\u001b[0m inconsistent use of tabs and spaces in indentation\n"
     ]
    }
   ],
   "source": [
    "#problem of Overriding most of method redundant so super method come to reduce its code\n",
    "#example\n",
    "class Car(object):\n",
    "    def __init__(self, make = 'Ford', model = 'Pinto', year = '1971', mileage = 253812, color = 'orange'):\n",
    "        self.__make = make\n",
    "        self.__model = model\n",
    "        self.__year = year\n",
    "        self.__mileage = mileage\n",
    "        self.__color = color\n",
    "\n",
    "    def move_forward(self, speed):\n",
    "        print(\"Your %s is moving forward at %s\" % (self.__model, speed))\n",
    "\n",
    "    def move_backward(self, speed):\n",
    "        print(\"Moving backward at %s\" % speed)\n",
    "\n",
    "\n",
    "class MuscleCar(Car):\n",
    "    def __init__(self, make = 'Ford', model = 'Mustang', year = '1965', mileage = 54032, color = 'blue', hp = 325):\n",
    "        self.__make = make\n",
    "        self.__model = model\n",
    "        self.__year = year\n",
    "        self.__mileage = mileage\n",
    "        self.__color = color\n",
    "\t\tself.__hp = hp\n",
    "\n",
    "    def set_hp(self, hp):\n",
    "        self.__hp = hp\n",
    "\n",
    "    def get_hp(self):\n",
    "        return self.__hp\n",
    "\n",
    "    def drag_race(self, opponent):\n",
    "        if (self.__hp > opponent.get_hp()):\n",
    "            return \"You Win!\"\n",
    "        else:\n",
    "            return \"You Lose!\"\n",
    "\n",
    "mynewcar = MuscleCar('Ford', 'Mustang', '2016', 3000, 'red', 687)\n",
    "opponent = MuscleCar()\n",
    "\n",
    "\n",
    "mynewcar.move_forward('25mph')\n",
    "print(mynewcar.drag_race(opponent))\n",
    "\n",
    "#The Super Method\n",
    "#Sometimes, you need to access the methods found in the parent class from within the child class.\n",
    "#Take the previous example which overrides that constructor. A lot of that code is redundant. Using super()\n",
    "#to call the constructor from the \"Car\" class eliminates that redundancy and makes for a more streamlined class. \n",
    "class MuscleCar(Car):\n",
    "    def __init__(self, make = 'Ford', model = 'Mustang', year = '1965', mileage = 54032, color = 'blue', hp = 325):\n",
    "        super().__init__(make, model, year, mileage, color)         ####\n",
    "        self.__hp = hp\n",
    "        "
   ]
  },
  {
   "cell_type": "code",
   "execution_count": 56,
   "metadata": {},
   "outputs": [
    {
     "name": "stdout",
     "output_type": "stream",
     "text": [
      "do in class A\n",
      "[<class '__main__.D'>, <class '__main__.B'>, <class '__main__.A'>, <class '__main__.C'>, <class 'object'>]\n"
     ]
    }
   ],
   "source": [
    "#multiple Inheritance\n",
    "\n",
    "class C:\n",
    "    def do(self):\n",
    "       print('do in class c')\n",
    "\n",
    "class A:                            \n",
    "    def do(self):                      \n",
    "        print('do in class A')                \n",
    "            \n",
    "class B(A):\n",
    "    pass\n",
    "                  \n",
    "class D(B,C):\n",
    "      pass\n",
    "#MRO Method Resolution Order (D,B,A,C)\n",
    "#excute do method in class A or class C\n",
    "#will excute in class A not class C\n",
    "\n",
    "obj1 = D()\n",
    "obj1.do()\n",
    "print(D.mro())  #Method Resolution Order (D,B,A,C)"
   ]
  },
  {
   "cell_type": "code",
   "execution_count": 59,
   "metadata": {},
   "outputs": [
    {
     "name": "stdout",
     "output_type": "stream",
     "text": [
      "5\n",
      "5\n",
      "2\n"
     ]
    }
   ],
   "source": [
    "#Polymorphism\n",
    "# two class with same interface(same method name)\n",
    "#the methods are often different but conceptually similar\n",
    "#example len() built in method\n",
    "print(len('ayman'))\n",
    "print(len([1,1,2,3,4]))\n",
    "print(len({1:'a',2:'b'}))\n",
    "#note# Every class str list dict has len() method"
   ]
  },
  {
   "cell_type": "code",
   "execution_count": null,
   "metadata": {},
   "outputs": [],
   "source": []
  }
 ],
 "metadata": {
  "kernelspec": {
   "display_name": "Python 3",
   "language": "python",
   "name": "python3"
  },
  "language_info": {
   "codemirror_mode": {
    "name": "ipython",
    "version": 3
   },
   "file_extension": ".py",
   "mimetype": "text/x-python",
   "name": "python",
   "nbconvert_exporter": "python",
   "pygments_lexer": "ipython3",
   "version": "3.6.4"
  }
 },
 "nbformat": 4,
 "nbformat_minor": 2
}
